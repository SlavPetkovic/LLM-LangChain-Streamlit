{
 "cells": [
  {
   "cell_type": "code",
   "execution_count": 1,
   "id": "initial_id",
   "metadata": {
    "collapsed": true,
    "ExecuteTime": {
     "end_time": "2023-12-02T05:47:50.326860700Z",
     "start_time": "2023-12-02T05:47:49.646758100Z"
    }
   },
   "outputs": [
    {
     "name": "stderr",
     "output_type": "stream",
     "text": [
      "C:\\Users\\slavp\\PycharmProjects\\LLM-LangChain-Streamlit\\venv\\lib\\site-packages\\langchain\\llms\\openai.py:243: UserWarning: You are trying to use a chat model. This way of initializing it is no longer supported. Instead, please use: `from langchain.chat_models import ChatOpenAI`\n",
      "  warnings.warn(\n",
      "C:\\Users\\slavp\\PycharmProjects\\LLM-LangChain-Streamlit\\venv\\lib\\site-packages\\langchain\\llms\\openai.py:1038: UserWarning: You are trying to use a chat model. This way of initializing it is no longer supported. Instead, please use: `from langchain.chat_models import ChatOpenAI`\n",
      "  warnings.warn(\n"
     ]
    }
   ],
   "source": [
    "# Import Dependencies\n",
    "from langchain.llms import OpenAI\n",
    "import json\n",
    "\n",
    "# Read config file to get API_KEY and ORG_ID values\n",
    "with open(\"../parameters/config.json\") as config:\n",
    "    param = json.load(config)\n",
    "api_key = param['GPT']['API']\n",
    "client = OpenAI(api_key=api_key)\n",
    "\n",
    "llm = OpenAI(api_key=api_key, model_name = 'text-davinci-003', temperature =0.7, max_tokens = 512)\n"
   ]
  },
  {
   "cell_type": "code",
   "execution_count": null,
   "outputs": [],
   "source": [
    "# Prompt\n",
    "output = llm('Explain Linear Regression')\n",
    "print(output)"
   ],
   "metadata": {
    "collapsed": false
   },
   "id": "1fa4623a608fbc21"
  }
 ],
 "metadata": {
  "kernelspec": {
   "display_name": "Python 3",
   "language": "python",
   "name": "python3"
  },
  "language_info": {
   "codemirror_mode": {
    "name": "ipython",
    "version": 2
   },
   "file_extension": ".py",
   "mimetype": "text/x-python",
   "name": "python",
   "nbconvert_exporter": "python",
   "pygments_lexer": "ipython2",
   "version": "2.7.6"
  }
 },
 "nbformat": 4,
 "nbformat_minor": 5
}
