{
 "cells": [
  {
   "cell_type": "code",
   "execution_count": 4,
   "id": "initial_id",
   "metadata": {
    "collapsed": true,
    "ExecuteTime": {
     "end_time": "2023-11-30T23:10:03.847591Z",
     "start_time": "2023-11-30T23:10:03.805665600Z"
    }
   },
   "outputs": [],
   "source": [
    "# Import Dependencies\n",
    "from langchain.llms import OpenAI\n",
    "import json\n",
    "\n",
    "# Read config file to get API_KEY and ORG_ID values\n",
    "with open(\"../parameters/config.json\") as config:\n",
    "    param = json.load(config)\n",
    "api_key = param['GPT']['API']\n",
    "client = OpenAI(api_key=api_key)"
   ]
  },
  {
   "cell_type": "code",
   "execution_count": 7,
   "outputs": [
    {
     "name": "stdout",
     "output_type": "stream",
     "text": [
      "\u001B[1mOpenAI\u001B[0m\n",
      "Params: {'model_name': 'text-davinci-003', 'temperature': 0.7, 'top_p': 1, 'frequency_penalty': 0, 'presence_penalty': 0, 'n': 1, 'logit_bias': {}, 'max_tokens': 512}\n"
     ]
    }
   ],
   "source": [
    "llm = OpenAI(api_key=api_key, model_name = 'text-davinci-003', temperature =0.7, max_tokens = 512)\n",
    "print(llm)"
   ],
   "metadata": {
    "collapsed": false,
    "ExecuteTime": {
     "end_time": "2023-11-30T23:12:41.219225100Z",
     "start_time": "2023-11-30T23:12:41.158013400Z"
    }
   },
   "id": "611d6bb6c7127f4"
  },
  {
   "cell_type": "code",
   "execution_count": 9,
   "outputs": [
    {
     "name": "stdout",
     "output_type": "stream",
     "text": [
      "\n",
      "\n",
      "Linear regression is a statistical method used to model the relationship between two variables. It is used to find the linear relationship between a dependent variable (y) and one or more independent variables (x). The equation for linear regression is y = mx + b, where m and b are constants and x is the independent variable. The equation can be used to predict the value of the dependent variable (y) given a value for the independent variable (x). Linear regression is used to model the relationship between variables, analyze trends, and make predictions.\n"
     ]
    }
   ],
   "source": [
    "output = llm('Explain Linear Regression')\n",
    "print(output)"
   ],
   "metadata": {
    "collapsed": false,
    "ExecuteTime": {
     "end_time": "2023-11-30T23:13:24.776685900Z",
     "start_time": "2023-11-30T23:13:22.489241100Z"
    }
   },
   "id": "f9b8498a21b79c69"
  }
 ],
 "metadata": {
  "kernelspec": {
   "display_name": "Python 3",
   "language": "python",
   "name": "python3"
  },
  "language_info": {
   "codemirror_mode": {
    "name": "ipython",
    "version": 2
   },
   "file_extension": ".py",
   "mimetype": "text/x-python",
   "name": "python",
   "nbconvert_exporter": "python",
   "pygments_lexer": "ipython2",
   "version": "2.7.6"
  }
 },
 "nbformat": 4,
 "nbformat_minor": 5
}
