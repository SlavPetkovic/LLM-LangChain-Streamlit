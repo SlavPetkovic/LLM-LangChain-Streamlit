{
 "cells": [
  {
   "cell_type": "code",
   "execution_count": 4,
   "id": "initial_id",
   "metadata": {
    "collapsed": true,
    "ExecuteTime": {
     "end_time": "2023-12-02T06:25:04.314539300Z",
     "start_time": "2023-12-02T06:24:52.074858100Z"
    }
   },
   "outputs": [
    {
     "name": "stdout",
     "output_type": "stream",
     "text": [
      "The average distance from the Moon to Earth is about 238,855 miles (384,400 kilometers). However, this distance can vary slightly since both the Earth and the Moon follow elliptical orbits. The Moon's orbit varies from about 225,623 miles (363,104 kilometers) at its closest approach (perigee) to about 252,088 miles (405,696 kilometers) at its farthest point (apogee).\n",
      "--------------------------------------------------\n",
      "Goodbye!\n"
     ]
    }
   ],
   "source": [
    "import json\n",
    "from langchain.chat_models import ChatOpenAI\n",
    "from langchain.schema import SystemMessage\n",
    "from langchain.chains import LLMChain\n",
    "from langchain.prompts import ChatPromptTemplate, HumanMessagePromptTemplate, MessagesPlaceholder\n",
    "from langchain.memory import ConversationBufferMemory,FileChatMessageHistory\n",
    "\n",
    "# Read config file to get API key\n",
    "try:\n",
    "    with open(\"../parameters/config.json\") as config:\n",
    "        param = json.load(config)\n",
    "    api_key = param.get('GPT', {}).get('API')\n",
    "    if not api_key:\n",
    "        raise ValueError(\"API key not found in configuration.\")\n",
    "except FileNotFoundError:\n",
    "    raise FileNotFoundError(\"Config file not found. Please check the path.\")\n",
    "\n",
    "# Initialize the LLM with your API key and model parameters\n",
    "llm = ChatOpenAI(api_key=api_key, model_name='gpt-4-1106-preview', temperature=1)\n",
    "history = FileChatMessageHistory('chat_history.json')\n",
    "memory =  ConversationBufferMemory(memory_key = 'chat_history', chat_memory = history, return_messages = True)\n",
    "\n",
    "# Initialize prompt template\n",
    "prompt = ChatPromptTemplate(\n",
    "    input_variables=['content'],\n",
    "    messages=[\n",
    "        SystemMessage(content='You are chatbot having a conversation with a human.'),\n",
    "        MessagesPlaceholder(variable_name='chat_history'),\n",
    "        HumanMessagePromptTemplate.from_template('{content}')\n",
    "    ]\n",
    ")\n",
    "\n",
    "# Initialize LLMChain\n",
    "chain = LLMChain(llm=llm, prompt=prompt,memory = memory, verbose=False)\n",
    "\n",
    "while True:\n",
    "    content = input(\"Your prompt: \")\n",
    "    if content.lower() in ['quit', 'exit', 'bye']:\n",
    "        print(\"Goodbye!\")\n",
    "        break\n",
    "    \n",
    "    response = chain.run({'content': content})\n",
    "    print(response)\n",
    "    print('-'*50)\n"
   ]
  }
 ],
 "metadata": {
  "kernelspec": {
   "display_name": "Python 3",
   "language": "python",
   "name": "python3"
  },
  "language_info": {
   "codemirror_mode": {
    "name": "ipython",
    "version": 2
   },
   "file_extension": ".py",
   "mimetype": "text/x-python",
   "name": "python",
   "nbconvert_exporter": "python",
   "pygments_lexer": "ipython2",
   "version": "2.7.6"
  }
 },
 "nbformat": 4,
 "nbformat_minor": 5
}
