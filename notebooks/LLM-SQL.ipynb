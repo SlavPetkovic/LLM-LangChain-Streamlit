{
 "cells": [
  {
   "cell_type": "code",
   "execution_count": null,
   "outputs": [],
   "source": [
    "from langchain.llms import OpenAI\n",
    "from langchain.utilities import SQLDatabase\n",
    "from langchain_experimental.sql import SQLDatabaseChain\n",
    "import dotenv\n",
    "import os\n",
    "from sqlalchemy import create_engine\n",
    "import urllib\n",
    "\n",
    "dotenv.load_dotenv()\n",
    "api_key = os.getenv('OPENAI_API_KEY')\n",
    "\n",
    "server = 'optimus.database.windows.net'\n",
    "database = 'Neutrino'\n",
    "username = 'Slav'\n",
    "password = 'Stevan_13' \n",
    "driver= 'ODBC Driver 17 for SQL Server'\n",
    "\n",
    "# Create the connection URL\n",
    "params = urllib.parse.quote_plus(\n",
    "    'DRIVER={' + driver + '};'\n",
    "    'SERVER=' + server + ';'\n",
    "    'DATABASE=' + database + ';'\n",
    "    'UID=' + username + ';'\n",
    "    'PWD=' + password\n",
    ")\n",
    "\n",
    "# Create the engine\n",
    "engine = create_engine('mssql+pyodbc:///?odbc_connect={}'.format(params))\n",
    "db = engine.connect()\n",
    "    \n",
    "llm = OpenAI(api_key= api_key, temperature=0, verbose=True)\n",
    "db_chain = SQLDatabaseChain.from_llm(llm, db, verbose=True)"
   ],
   "metadata": {
    "collapsed": false
   },
   "id": "2241d09b2a49fae9"
  },
  {
   "cell_type": "code",
   "execution_count": null,
   "outputs": [],
   "source": [],
   "metadata": {
    "collapsed": false
   },
   "id": "70a77670c893a41b"
  },
  {
   "cell_type": "code",
   "execution_count": null,
   "outputs": [],
   "source": [
    "from langchain.llms import OpenAI\n",
    "from langchain.utilities import SQLDatabase\n",
    "from langchain_experimental.sql import SQLDatabaseChain\n",
    "from langchain.chains import create_sql_query_chain\n",
    "from langchain.chat_models import ChatOpenAI\n",
    "import dotenv\n",
    "import os\n",
    "from sqlalchemy import create_engine\n",
    "import urllib\n",
    "\n",
    "dotenv.load_dotenv()\n",
    "api_key = os.getenv('OPENAI_API_KEY')\n",
    "\n",
    "server = 'optimus.database.windows.net'\n",
    "database = 'Neutrino'\n",
    "username = 'Slav'\n",
    "password = 'Stevan_13' \n",
    "driver = 'ODBC Driver 17 for SQL Server'\n",
    "\n",
    "# Create the connection URL\n",
    "params = urllib.parse.quote_plus(\n",
    "    'DRIVER={' + driver + '};'\n",
    "    'SERVER=' + server + ';'\n",
    "    'DATABASE=' + database + ';'\n",
    "    'UID=' + username + ';'\n",
    "    'PWD=' + password\n",
    ")\n",
    "\n",
    "# Create the engine\n",
    "engine = create_engine('mssql+pyodbc:///?odbc_connect={}'.format(params))\n",
    "\n",
    "# Create an instance of SQLDatabase\n",
    "sql_db = SQLDatabase(engine)\n",
    "\n",
    "# Initialize OpenAI\n",
    "llm = OpenAI(api_key=api_key, temperature=0, verbose=True)\n",
    "\n",
    "# Create SQLDatabaseChain\n",
    "chain = create_sql_query_chain(ChatOpenAI(temperature=0), sql_db)\n",
    "response = chain.invoke({\"question\": \"How many employees are there\"})\n",
    "print(response)\n"
   ],
   "metadata": {
    "collapsed": false
   },
   "id": "dc00187de1338691"
  },
  {
   "cell_type": "code",
   "execution_count": null,
   "outputs": [],
   "source": [
    "from langchain.llms import OpenAI\n",
    "from langchain_experimental.sql import SQLDatabaseChain\n",
    "from langchain.llms import OpenAI\n",
    "from langchain.utilities import SQLDatabase\n",
    "from langchain_experimental.sql import SQLDatabaseChain\n",
    "from langchain.chains import create_sql_query_chain\n",
    "from langchain.chat_models import ChatOpenAI\n",
    "import dotenv\n",
    "import os\n",
    "from sqlalchemy import create_engine\n",
    "import urllib\n",
    "\n",
    "dotenv.load_dotenv()\n",
    "api_key = os.getenv('OPENAI_API_KEY')\n",
    "\n",
    "server = 'optimus.database.windows.net'\n",
    "database = 'Neutrino'\n",
    "username = 'Slav'\n",
    "password = 'Stevan_13' \n",
    "driver = 'ODBC Driver 17 for SQL Server'\n",
    "\n",
    "# Create the connection URL\n",
    "params = urllib.parse.quote_plus(\n",
    "    'DRIVER={' + driver + '};'\n",
    "    'SERVER=' + server + ';'\n",
    "    'DATABASE=' + database + ';'\n",
    "    'UID=' + username + ';'\n",
    "    'PWD=' + password\n",
    ")\n",
    "\n",
    "# Create the engine\n",
    "engine = create_engine('mssql+pyodbc:///?odbc_connect={}'.format(params))\n",
    "\n",
    "# Create an instance of SQLDatabase\n",
    "sql_db = SQLDatabase(engine)\n",
    "\n",
    "# Initialize OpenAI\n",
    "llm = OpenAI(api_key=api_key, temperature=0, verbose=True)\n",
    "\n",
    "# Create SQLDatabaseChain with the correct SQLDatabase instance\n",
    "db_chain = SQLDatabaseChain.from_llm(llm, sql_db, verbose=True)\n",
    "\n",
    "# Run query using db_chain\n",
    "response = db_chain.run(\"Considering that Order revenue is a sum of part reveneu of the order, which order has the highest revenue?\")\n",
    "print(response)\n"
   ],
   "metadata": {
    "collapsed": false
   },
   "id": "542260ccc0b04757"
  },
  {
   "cell_type": "code",
   "execution_count": null,
   "outputs": [],
   "source": [],
   "metadata": {
    "collapsed": false
   },
   "id": "4a369cc101c201d6"
  },
  {
   "cell_type": "code",
   "execution_count": 1,
   "outputs": [
    {
     "name": "stdout",
     "output_type": "stream",
     "text": [
      "\n",
      "\n",
      "\u001B[1m> Entering new AgentExecutor chain...\u001B[0m\n",
      "\u001B[32;1m\u001B[1;3mAction: sql_db_list_tables\n",
      "Action Input: \u001B[0m\n",
      "Observation: \u001B[38;5;200m\u001B[1;3mOrders, TestData\u001B[0m\n",
      "Thought:\u001B[32;1m\u001B[1;3m I should query the schema of the Orders table\n",
      "Action: sql_db_schema\n",
      "Action Input: Orders\u001B[0m\n",
      "Observation: \u001B[33;1m\u001B[1;3m\n",
      "CREATE TABLE [Orders] (\n",
      "\t[Date] VARCHAR(max) COLLATE SQL_Latin1_General_CP1_CI_AS NULL, \n",
      "\t[OrderNumber] VARCHAR(max) COLLATE SQL_Latin1_General_CP1_CI_AS NULL, \n",
      "\t[CustomerName] VARCHAR(max) COLLATE SQL_Latin1_General_CP1_CI_AS NULL, \n",
      "\t[Revenue] FLOAT(53) NULL, \n",
      "\t[PartCost] FLOAT(53) NULL, \n",
      "\t[PartNumber] VARCHAR(max) COLLATE SQL_Latin1_General_CP1_CI_AS NULL\n",
      ")\n",
      "\n",
      "/*\n",
      "3 rows from Orders table:\n",
      "Date\tOrderNumber\tCustomerName\tRevenue\tPartCost\tPartNumber\n",
      "7/13/2021\tORD10001\tCustomer_118\t1245.25\t553.99\tPART193\n",
      "7/13/2021\tORD10001\tCustomer_118\t1284.77\t396.69\tPART10\n",
      "7/13/2021\tORD10001\tCustomer_118\t1794.37\t964.39\tPART88\n",
      "*/\u001B[0m\n",
      "Thought:\u001B[32;1m\u001B[1;3m I should query the database for the date and revenue\n",
      "Action: sql_db_query\n",
      "Action Input: SELECT Date, Revenue FROM Orders ORDER BY Revenue DESC LIMIT 10\u001B[0m\n",
      "Observation: \u001B[36;1m\u001B[1;3mError: (pyodbc.ProgrammingError) ('42000', \"[42000] [Microsoft][ODBC Driver 17 for SQL Server][SQL Server]Incorrect syntax near 'LIMIT'. (102) (SQLExecDirectW)\")\n",
      "[SQL: SELECT Date, Revenue FROM Orders ORDER BY Revenue DESC LIMIT 10]\n",
      "(Background on this error at: https://sqlalche.me/e/20/f405)\u001B[0m\n",
      "Thought:\u001B[32;1m\u001B[1;3m I should check the syntax of my query\n",
      "Action: sql_db_query_checker\n",
      "Action Input: SELECT Date, Revenue FROM Orders ORDER BY Revenue DESC LIMIT 10\u001B[0m\n",
      "Observation: \u001B[36;1m\u001B[1;3m\n",
      "SELECT Date, Revenue FROM Orders ORDER BY Revenue DESC LIMIT 10\u001B[0m\n",
      "Thought:\u001B[32;1m\u001B[1;3m I should query the database for the date and revenue\n",
      "Action: sql_db_query\n",
      "Action Input: SELECT TOP 10 Date, Revenue FROM Orders ORDER BY Revenue DESC\u001B[0m\n",
      "Observation: \u001B[36;1m\u001B[1;3m[('6/4/2020', 1996.19), ('7/22/2020', 1991.07), ('11/20/2021', 1976.0), ('11/11/2020', 1971.71), ('1/19/2021', 1966.89), ('1/24/2021', 1963.1), ('11/20/2021', 1957.41), ('4/21/2020', 1955.85), ('2/27/2021', 1955.17), ('5/24/2022', 1952.07)]\u001B[0m\n",
      "Thought:\u001B[32;1m\u001B[1;3m I now know the final answer\n",
      "Final Answer: The top 10 dates and revenues are: 6/4/2020, 1996.19; 7/22/2020, 1991.07; 11/20/2021, 1976.0; 11/11/2020, 1971.71; 1/19/2021, 1966.89; 1/24/2021, 1963.1; 11/20/2021, 1957.41; 4/21/2020, 1955.85; 2/27/2021, 1955.17; 5/24/2022, 1952.07.\u001B[0m\n",
      "\n",
      "\u001B[1m> Finished chain.\u001B[0m\n"
     ]
    },
    {
     "data": {
      "text/plain": "'The top 10 dates and revenues are: 6/4/2020, 1996.19; 7/22/2020, 1991.07; 11/20/2021, 1976.0; 11/11/2020, 1971.71; 1/19/2021, 1966.89; 1/24/2021, 1963.1; 11/20/2021, 1957.41; 4/21/2020, 1955.85; 2/27/2021, 1955.17; 5/24/2022, 1952.07.'"
     },
     "execution_count": 1,
     "metadata": {},
     "output_type": "execute_result"
    }
   ],
   "source": [
    "from langchain.agents import create_sql_agent\n",
    "from langchain.agents.agent_toolkits import SQLDatabaseToolkit\n",
    "# from langchain.agents import AgentExecutor\n",
    "from langchain.agents.agent_types import AgentType\n",
    "from langchain.llms import OpenAI\n",
    "from langchain.utilities import SQLDatabase\n",
    "import dotenv\n",
    "import os\n",
    "from sqlalchemy import create_engine\n",
    "import urllib\n",
    "\n",
    "dotenv.load_dotenv()\n",
    "api_key = os.getenv('OPENAI_API_KEY')\n",
    "\n",
    "server = 'optimus.database.windows.net'\n",
    "database = 'Neutrino'\n",
    "username = 'Slav'\n",
    "password = 'Stevan_13' \n",
    "driver = 'ODBC Driver 17 for SQL Server'\n",
    "\n",
    "# Create the connection URL\n",
    "params = urllib.parse.quote_plus(\n",
    "    'DRIVER={' + driver + '};'\n",
    "    'SERVER=' + server + ';'\n",
    "    'DATABASE=' + database + ';'\n",
    "    'UID=' + username + ';'\n",
    "    'PWD=' + password\n",
    ")\n",
    "# Create the engine\n",
    "engine = create_engine('mssql+pyodbc:///?odbc_connect={}'.format(params))\n",
    "# Create an instance of SQLDatabase\n",
    "db = SQLDatabase(engine)\n",
    "\n",
    "agent_executor = create_sql_agent(\n",
    "    llm=OpenAI(temperature=0),\n",
    "    toolkit=SQLDatabaseToolkit(db=db, llm=OpenAI(temperature=0)),\n",
    "    verbose=True,\n",
    "    agent_type=AgentType.ZERO_SHOT_REACT_DESCRIPTION,\n",
    ")\n",
    "agent_executor.run(\n",
    "    \"Create forecasting based on date and revenue using python\"\n",
    ")"
   ],
   "metadata": {
    "collapsed": false,
    "ExecuteTime": {
     "end_time": "2023-12-17T09:19:57.961810800Z",
     "start_time": "2023-12-17T09:19:47.207927200Z"
    }
   },
   "id": "eb413fee54f41f5"
  },
  {
   "cell_type": "code",
   "execution_count": 1,
   "outputs": [],
   "source": [],
   "metadata": {
    "collapsed": false,
    "ExecuteTime": {
     "end_time": "2023-12-17T09:20:23.122302900Z",
     "start_time": "2023-12-17T09:20:23.106356800Z"
    }
   },
   "id": "9f0b22297b16ac15"
  },
  {
   "cell_type": "code",
   "execution_count": null,
   "outputs": [],
   "source": [],
   "metadata": {
    "collapsed": false
   },
   "id": "6518d7ecfbf70687"
  }
 ],
 "metadata": {
  "kernelspec": {
   "display_name": "Python 3",
   "language": "python",
   "name": "python3"
  },
  "language_info": {
   "codemirror_mode": {
    "name": "ipython",
    "version": 2
   },
   "file_extension": ".py",
   "mimetype": "text/x-python",
   "name": "python",
   "nbconvert_exporter": "python",
   "pygments_lexer": "ipython2",
   "version": "2.7.6"
  }
 },
 "nbformat": 4,
 "nbformat_minor": 5
}
