{
 "cells": [
  {
   "cell_type": "code",
   "execution_count": 5,
   "outputs": [],
   "source": [
    "########################################################################################################################\n",
    "# Loading data\n",
    "########################################################################################################################\n",
    "# Importing Dependencies with the function to improve performance of the process\n",
    "import pandas as pd\n",
    "from lib.etl import DatabaseETL\n",
    "etl = DatabaseETL('../parameters/config.json')\n",
    "\n",
    "data = pd.read_csv (\"../data/Orders.csv\")\n",
    "etl.write_to_sql(data, 'Orders')\n",
    "etl.close()"
   ],
   "metadata": {
    "collapsed": false,
    "ExecuteTime": {
     "end_time": "2023-12-17T08:40:45.872783Z",
     "start_time": "2023-12-17T08:40:44.871144Z"
    }
   }
  },
  {
   "cell_type": "code",
   "execution_count": 6,
   "outputs": [
    {
     "data": {
      "text/plain": "        Date OrderNumber  CustomerName  Revenue  PartCost PartNumber\n0  7/13/2021    ORD10001  Customer_118  1245.25    553.99    PART193\n1  7/13/2021    ORD10001  Customer_118  1284.77    396.69     PART10\n2  7/13/2021    ORD10001  Customer_118  1794.37    964.39     PART88\n3  7/13/2021    ORD10001  Customer_118  1604.28    538.32    PART194\n4  7/13/2021    ORD10001  Customer_118   846.29    839.36     PART89",
      "text/html": "<div>\n<style scoped>\n    .dataframe tbody tr th:only-of-type {\n        vertical-align: middle;\n    }\n\n    .dataframe tbody tr th {\n        vertical-align: top;\n    }\n\n    .dataframe thead th {\n        text-align: right;\n    }\n</style>\n<table border=\"1\" class=\"dataframe\">\n  <thead>\n    <tr style=\"text-align: right;\">\n      <th></th>\n      <th>Date</th>\n      <th>OrderNumber</th>\n      <th>CustomerName</th>\n      <th>Revenue</th>\n      <th>PartCost</th>\n      <th>PartNumber</th>\n    </tr>\n  </thead>\n  <tbody>\n    <tr>\n      <th>0</th>\n      <td>7/13/2021</td>\n      <td>ORD10001</td>\n      <td>Customer_118</td>\n      <td>1245.25</td>\n      <td>553.99</td>\n      <td>PART193</td>\n    </tr>\n    <tr>\n      <th>1</th>\n      <td>7/13/2021</td>\n      <td>ORD10001</td>\n      <td>Customer_118</td>\n      <td>1284.77</td>\n      <td>396.69</td>\n      <td>PART10</td>\n    </tr>\n    <tr>\n      <th>2</th>\n      <td>7/13/2021</td>\n      <td>ORD10001</td>\n      <td>Customer_118</td>\n      <td>1794.37</td>\n      <td>964.39</td>\n      <td>PART88</td>\n    </tr>\n    <tr>\n      <th>3</th>\n      <td>7/13/2021</td>\n      <td>ORD10001</td>\n      <td>Customer_118</td>\n      <td>1604.28</td>\n      <td>538.32</td>\n      <td>PART194</td>\n    </tr>\n    <tr>\n      <th>4</th>\n      <td>7/13/2021</td>\n      <td>ORD10001</td>\n      <td>Customer_118</td>\n      <td>846.29</td>\n      <td>839.36</td>\n      <td>PART89</td>\n    </tr>\n  </tbody>\n</table>\n</div>"
     },
     "execution_count": 6,
     "metadata": {},
     "output_type": "execute_result"
    }
   ],
   "source": [
    "test = etl.read_sql(\"SELECT TOP 10 * FROM Orders\")\n",
    "test\n",
    "etl.close()\n",
    "test.head()"
   ],
   "metadata": {
    "collapsed": false,
    "ExecuteTime": {
     "end_time": "2023-12-17T08:40:52.508792400Z",
     "start_time": "2023-12-17T08:40:52.412067100Z"
    }
   }
  }
 ],
 "metadata": {
  "kernelspec": {
   "display_name": "Python 3",
   "language": "python",
   "name": "python3"
  },
  "language_info": {
   "codemirror_mode": {
    "name": "ipython",
    "version": 2
   },
   "file_extension": ".py",
   "mimetype": "text/x-python",
   "name": "python",
   "nbconvert_exporter": "python",
   "pygments_lexer": "ipython2",
   "version": "2.7.6"
  }
 },
 "nbformat": 4,
 "nbformat_minor": 0
}
