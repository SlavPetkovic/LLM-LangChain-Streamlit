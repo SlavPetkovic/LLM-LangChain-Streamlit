{
 "cells": [
  {
   "cell_type": "code",
   "execution_count": 3,
   "id": "initial_id",
   "metadata": {
    "collapsed": true,
    "ExecuteTime": {
     "end_time": "2023-12-07T03:22:57.764061900Z",
     "start_time": "2023-12-07T03:22:55.136812900Z"
    }
   },
   "outputs": [
    {
     "name": "stdout",
     "output_type": "stream",
     "text": [
      "\n",
      "\n",
      "Linear regression is a statistical method used to find a linear relationship between a dependent variable (outcome) and one or more independent variables (predictors). It is used to model the relationship between a single scalar response (dependent variable) and one or more explanatory variables (independent variables). Linear regression finds the line of best fit that minimizes the sum of the squared residuals (the difference between the actual values and the predicted values). This line is used to predict values for new data points. The linear regression algorithm can be used to predict future values, identify correlations between variables, and provide insights into the relationships between different variables.\n"
     ]
    }
   ],
   "source": [
    "# Import Dependencies\n",
    "from langchain.llms import OpenAI\n",
    "import json\n",
    "from dotenv import load_dotenv, find_dotenv\n",
    "import os\n",
    "# Read config file to get API_KEY and ORG_ID values\n",
    "load_dotenv(find_dotenv(),  override=True)\n",
    "api_key = os.getenv(\"OPENAI_API_KEY\")\n",
    "client = OpenAI(api_key=api_key)\n",
    "llm = OpenAI(api_key=api_key, model_name = 'text-davinci-003', temperature =0.7, max_tokens = 512)\n",
    "output = llm('Explain Linear Regression')\n",
    "print(output)"
   ]
  },
  {
   "cell_type": "code",
   "execution_count": null,
   "outputs": [],
   "source": [],
   "metadata": {
    "collapsed": false,
    "ExecuteTime": {
     "end_time": "2023-12-07T03:19:37.669413700Z",
     "start_time": "2023-12-07T03:19:37.660327200Z"
    }
   },
   "id": "611d6bb6c7127f4"
  },
  {
   "cell_type": "code",
   "execution_count": null,
   "outputs": [],
   "source": [],
   "metadata": {
    "collapsed": false,
    "ExecuteTime": {
     "end_time": "2023-12-07T03:19:40.145835800Z",
     "start_time": "2023-12-07T03:19:40.134872600Z"
    }
   },
   "id": "f9b8498a21b79c69"
  }
 ],
 "metadata": {
  "kernelspec": {
   "display_name": "Python 3",
   "language": "python",
   "name": "python3"
  },
  "language_info": {
   "codemirror_mode": {
    "name": "ipython",
    "version": 2
   },
   "file_extension": ".py",
   "mimetype": "text/x-python",
   "name": "python",
   "nbconvert_exporter": "python",
   "pygments_lexer": "ipython2",
   "version": "2.7.6"
  }
 },
 "nbformat": 4,
 "nbformat_minor": 5
}
