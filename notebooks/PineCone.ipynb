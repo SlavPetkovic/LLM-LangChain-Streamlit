{
 "cells": [
  {
   "cell_type": "markdown",
   "source": [
    "## Pinecone Basics"
   ],
   "metadata": {
    "collapsed": false
   },
   "id": "f2bdbab9abc6b1fe"
  },
  {
   "cell_type": "code",
   "execution_count": 2,
   "outputs": [
    {
     "name": "stdout",
     "output_type": "stream",
     "text": [
      "9d3f4ffd-cc84-49ce-a06a-1bf3598f34cb\n"
     ]
    },
    {
     "data": {
      "text/plain": "VersionResponse(server='2.0.11', client='2.2.4')"
     },
     "execution_count": 2,
     "metadata": {},
     "output_type": "execute_result"
    }
   ],
   "source": [
    "import json\n",
    "import pinecone\n",
    "from dotenv import load_dotenv, find_dotenv\n",
    "import os\n",
    "# Read config file to get API_KEY and ORG_ID values\n",
    "load_dotenv(find_dotenv(),  override=True)\n",
    "api_key = os.getenv(\"PINECONE_API_KEY\")\n",
    "env = os.getenv(\"PINECONE_ENV\")\n",
    "print(api_key) \n",
    "pinecone.init(api_key = api_key, environment= env)\n",
    "pinecone.info.version()"
   ],
   "metadata": {
    "collapsed": false,
    "ExecuteTime": {
     "end_time": "2023-12-07T01:43:35.035006800Z",
     "start_time": "2023-12-07T01:43:34.609212200Z"
    }
   },
   "id": "c0282fa23ab1e459"
  },
  {
   "cell_type": "code",
   "execution_count": 7,
   "outputs": [
    {
     "name": "stdout",
     "output_type": "stream",
     "text": [
      "Create index fishing\n",
      "Done\n"
     ]
    },
    {
     "data": {
      "text/plain": "['fishing']"
     },
     "execution_count": 7,
     "metadata": {},
     "output_type": "execute_result"
    }
   ],
   "source": [
    "# Create Pinecone index\n",
    "index_name = \"fishing\"\n",
    "if index_name not in pinecone.list_indexes():\n",
    "    print(f'Create index {index_name}')\n",
    "    pinecone.create_index(index_name,dimension=1536, metric='cosine', pods=1, pod_type='p1.x2')\n",
    "    print('Done')\n",
    "else:\n",
    "    print(\"Index exists\")\n",
    "    \n",
    "pinecone.list_indexes()"
   ],
   "metadata": {
    "collapsed": false,
    "ExecuteTime": {
     "end_time": "2023-12-07T03:35:08.268900Z",
     "start_time": "2023-12-07T03:35:01.802198300Z"
    }
   },
   "id": "583160614fcc004d"
  },
  {
   "cell_type": "code",
   "execution_count": 6,
   "outputs": [
    {
     "name": "stdout",
     "output_type": "stream",
     "text": [
      "Deleting index fishing\n",
      "Index Deleted\n"
     ]
    }
   ],
   "source": [
    "# Delete Pinecone index\n",
    "\n",
    "index_name = \"fishing\"\n",
    "if index_name in pinecone.list_indexes():\n",
    "    print(f'Deleting index {index_name}')\n",
    "    pinecone.delete_index(index_name)\n",
    "    print('Index Deleted')\n",
    "else:\n",
    "    print(f'Index {index_name} does not exist!')\n",
    "    "
   ],
   "metadata": {
    "collapsed": false,
    "ExecuteTime": {
     "end_time": "2023-12-07T02:25:30.162550800Z",
     "start_time": "2023-12-07T02:25:24.252969900Z"
    }
   },
   "id": "84e343bcfab96e53"
  },
  {
   "cell_type": "code",
   "execution_count": null,
   "outputs": [],
   "source": [
    "index_name = \"langchain-pinecone\"\n",
    "index = pinecone.Index(index_name)\n",
    "index.describe_index_stats()"
   ],
   "metadata": {
    "collapsed": false
   },
   "id": "4cfd174f7417cb4f"
  },
  {
   "cell_type": "code",
   "execution_count": null,
   "outputs": [],
   "source": [
    "# Insert vectors\n",
    "import random\n",
    "vectors = [[random.random() for _ in range (1536)] for v in range (5)]\n",
    "# Vectors\n",
    "ids = list('abcde')\n",
    "\n",
    "index_name = \"langchain-pinecone\"\n",
    "index = pinecone.Index(index_name)\n",
    "index.upsert(vectors = zip(ids, vectors))"
   ],
   "metadata": {
    "collapsed": false
   },
   "id": "ff34b5de7fbc582f"
  },
  {
   "cell_type": "code",
   "execution_count": null,
   "outputs": [],
   "source": [
    "# Update vectors:\n",
    "index_name = \"langchain-pinecone\"\n",
    "index = pinecone.Index(index_name)\n",
    "index.upsert(vectors = [('c',[0.3]*1536)])\n"
   ],
   "metadata": {
    "collapsed": false
   },
   "id": "4a6bab90edc87e0d"
  },
  {
   "cell_type": "code",
   "execution_count": null,
   "outputs": [],
   "source": [
    "# Fetch a vector\n",
    "index_name = \"langchain-pinecone\"\n",
    "index = pinecone.Index(index_name)\n",
    "index.fetch(ids)\n"
   ],
   "metadata": {
    "collapsed": false
   },
   "id": "cbad6f019ceda3bf"
  },
  {
   "cell_type": "code",
   "execution_count": null,
   "outputs": [],
   "source": [
    "# Delete Index \n",
    "index.delete(ids = ['b','c'])\n",
    "index.describe_index_stats()"
   ],
   "metadata": {
    "collapsed": false
   },
   "id": "13de5719adf1e697"
  },
  {
   "cell_type": "code",
   "execution_count": null,
   "outputs": [],
   "source": [],
   "metadata": {
    "collapsed": false
   },
   "id": "f54fa93c4065daed"
  },
  {
   "cell_type": "markdown",
   "source": [
    "## Splitting and Embedding Text Using LangChain\n"
   ],
   "metadata": {
    "collapsed": false
   },
   "id": "e9047973a4a2bcbb"
  },
  {
   "cell_type": "code",
   "execution_count": null,
   "outputs": [],
   "source": [
    "from langchain.text_splitter import RecursiveCharacterTextSplitter\n",
    "import PyPDF2\n",
    "import json\n",
    "\n",
    "# Read config file to get API_KEY and ORG_ID values\n",
    "with open(\"../parameters/config.json\") as config:\n",
    "    param = json.load(config)\n",
    "\n",
    "# Read the PDF file\n",
    "pdf_reader = PyPDF2.PdfReader('../data/TroutStocking.pdf')\n",
    "\n",
    "# Extract text from each page and concatenate it\n",
    "full_text = \"\"\n",
    "for page in pdf_reader.pages:\n",
    "    full_text += page.extract_text() + \"\\n\"\n",
    "\n",
    "# Initialize the text splitter\n",
    "text_splitter = RecursiveCharacterTextSplitter(\n",
    "    chunk_size=100,\n",
    "    chunk_overlap=20,\n",
    "    length_function=len\n",
    ")\n",
    "\n",
    "# Create chunks from the extracted text\n",
    "chunks = text_splitter.create_documents([full_text])\n",
    "print(chunks[0])\n",
    "print(len(chunks))"
   ],
   "metadata": {
    "collapsed": false
   },
   "id": "2fcb516a68125478"
  },
  {
   "cell_type": "code",
   "execution_count": null,
   "outputs": [],
   "source": [
    "# Calculate embedding cost\n",
    "import tiktoken\n",
    "def cost(texts):\n",
    "    enc = tiktoken.encoding_for_model('text-embedding-ada-002')\n",
    "    total_tokens = sum([len(enc.encode(page.page_content)) for page in texts])\n",
    "    print(f'Total Tokens:{total_tokens}')\n",
    "    print(f'Embedding Cost in USD: {total_tokens / 1000 * 0.0004:.6f}')\n",
    "\n",
    "print(cost(chunks))"
   ],
   "metadata": {
    "collapsed": false
   },
   "id": "2b5d043daaa2e5fb"
  },
  {
   "cell_type": "code",
   "execution_count": null,
   "outputs": [],
   "source": [
    "# Create embeddings\n",
    "from langchain.embeddings import  OpenAIEmbeddings\n",
    "# Read config file to get API_KEY and ORG_ID values\n",
    "with open(\"../parameters/config.json\") as config:\n",
    "    param = json.load(config)\n",
    "api_key = param['GPT']['API']\n",
    "\n",
    "embeddings = OpenAIEmbeddings(api_key = api_key)\n",
    "vector = embeddings.embed_query(chunks[0].page_content)\n",
    "print(vector)"
   ],
   "metadata": {
    "collapsed": false
   },
   "id": "13cea6ba8059613c"
  },
  {
   "cell_type": "code",
   "execution_count": null,
   "outputs": [],
   "source": [],
   "metadata": {
    "collapsed": false
   },
   "id": "8ffc81e93852e78a"
  },
  {
   "cell_type": "markdown",
   "source": [
    "## Inserting the Embeddings into a Pinecone Index\n"
   ],
   "metadata": {
    "collapsed": false
   },
   "id": "b31389147f5398a3"
  },
  {
   "cell_type": "code",
   "execution_count": null,
   "outputs": [],
   "source": [
    "import json\n",
    "import pinecone\n",
    "from langchain.vectorstores import Pinecone\n",
    "# Read config file to get API_KEY and ORG_ID values\n",
    "with open(\"../parameters/config.json\") as config:\n",
    "    param = json.load(config)\n",
    "\n",
    "api_key = param['PINECONE']['API']\n",
    "env = param['PINECONE']['ENV']\n",
    "print(api_key) \n",
    "pinecone.init(api_key = api_key, environment= env)\n",
    "\n",
    "pinecone.info.version()"
   ],
   "metadata": {
    "collapsed": false
   },
   "id": "2093e23ce5f84e07"
  },
  {
   "cell_type": "code",
   "execution_count": null,
   "outputs": [],
   "source": [
    "# deleting all indexes\n",
    "indexes = pinecone.list_indexes()\n",
    "print(indexes)\n",
    "\n",
    "for i in indexes:\n",
    "    pinecone.delete_index(i)\n",
    "    print(\"Indexes Deleted\")\n"
   ],
   "metadata": {
    "collapsed": false
   },
   "id": "c560637bdbdd49e"
  },
  {
   "cell_type": "code",
   "execution_count": null,
   "outputs": [],
   "source": [
    "# Create Pinecone index\n",
    "index_name = \"fishing\"\n",
    "if index_name not in pinecone.list_indexes():\n",
    "    print(f'Create index {index_name}')\n",
    "    pinecone.create_index(index_name,dimension=1536, metric='cosine', pods=1, pod_type='p1.x2')\n",
    "    print('Done')\n",
    "else:\n",
    "    print(\"Index exists\")\n",
    "pinecone.list_indexes()"
   ],
   "metadata": {
    "collapsed": false
   },
   "id": "383eba34cc6c98a9"
  },
  {
   "cell_type": "code",
   "execution_count": 8,
   "outputs": [
    {
     "ename": "FileNotFoundError",
     "evalue": "[Errno 2] No such file or directory: '../parameters/config.json'",
     "output_type": "error",
     "traceback": [
      "\u001B[1;31m---------------------------------------------------------------------------\u001B[0m",
      "\u001B[1;31mFileNotFoundError\u001B[0m                         Traceback (most recent call last)",
      "Cell \u001B[1;32mIn[8], line 6\u001B[0m\n\u001B[0;32m      3\u001B[0m \u001B[38;5;28;01mimport\u001B[39;00m \u001B[38;5;21;01mjson\u001B[39;00m\n\u001B[0;32m      5\u001B[0m \u001B[38;5;66;03m# Read config file to get API_KEY and ORG_ID values\u001B[39;00m\n\u001B[1;32m----> 6\u001B[0m \u001B[38;5;28;01mwith\u001B[39;00m \u001B[38;5;28;43mopen\u001B[39;49m\u001B[43m(\u001B[49m\u001B[38;5;124;43m\"\u001B[39;49m\u001B[38;5;124;43m../parameters/config.json\u001B[39;49m\u001B[38;5;124;43m\"\u001B[39;49m\u001B[43m)\u001B[49m \u001B[38;5;28;01mas\u001B[39;00m config:\n\u001B[0;32m      7\u001B[0m     param \u001B[38;5;241m=\u001B[39m json\u001B[38;5;241m.\u001B[39mload(config)\n\u001B[0;32m      9\u001B[0m \u001B[38;5;66;03m# Read the PDF file\u001B[39;00m\n",
      "File \u001B[1;32m~\\PycharmProjects\\LLM-LangChain-Streamlit\\venv\\lib\\site-packages\\IPython\\core\\interactiveshell.py:310\u001B[0m, in \u001B[0;36m_modified_open\u001B[1;34m(file, *args, **kwargs)\u001B[0m\n\u001B[0;32m    303\u001B[0m \u001B[38;5;28;01mif\u001B[39;00m file \u001B[38;5;129;01min\u001B[39;00m {\u001B[38;5;241m0\u001B[39m, \u001B[38;5;241m1\u001B[39m, \u001B[38;5;241m2\u001B[39m}:\n\u001B[0;32m    304\u001B[0m     \u001B[38;5;28;01mraise\u001B[39;00m \u001B[38;5;167;01mValueError\u001B[39;00m(\n\u001B[0;32m    305\u001B[0m         \u001B[38;5;124mf\u001B[39m\u001B[38;5;124m\"\u001B[39m\u001B[38;5;124mIPython won\u001B[39m\u001B[38;5;124m'\u001B[39m\u001B[38;5;124mt let you open fd=\u001B[39m\u001B[38;5;132;01m{\u001B[39;00mfile\u001B[38;5;132;01m}\u001B[39;00m\u001B[38;5;124m by default \u001B[39m\u001B[38;5;124m\"\u001B[39m\n\u001B[0;32m    306\u001B[0m         \u001B[38;5;124m\"\u001B[39m\u001B[38;5;124mas it is likely to crash IPython. If you know what you are doing, \u001B[39m\u001B[38;5;124m\"\u001B[39m\n\u001B[0;32m    307\u001B[0m         \u001B[38;5;124m\"\u001B[39m\u001B[38;5;124myou can use builtins\u001B[39m\u001B[38;5;124m'\u001B[39m\u001B[38;5;124m open.\u001B[39m\u001B[38;5;124m\"\u001B[39m\n\u001B[0;32m    308\u001B[0m     )\n\u001B[1;32m--> 310\u001B[0m \u001B[38;5;28;01mreturn\u001B[39;00m io_open(file, \u001B[38;5;241m*\u001B[39margs, \u001B[38;5;241m*\u001B[39m\u001B[38;5;241m*\u001B[39mkwargs)\n",
      "\u001B[1;31mFileNotFoundError\u001B[0m: [Errno 2] No such file or directory: '../parameters/config.json'"
     ]
    }
   ],
   "source": [
    "from langchain.text_splitter import RecursiveCharacterTextSplitter\n",
    "import PyPDF2\n",
    "import json\n",
    "\n",
    "# Read config file to get API_KEY and ORG_ID values\n",
    "with open(\"../parameters/config.json\") as config:\n",
    "    param = json.load(config)\n",
    "\n",
    "# Read the PDF file\n",
    "pdf_reader = PyPDF2.PdfReader('../data/TroutStocking.pdf')\n",
    "\n",
    "# Extract text from each page and concatenate it\n",
    "full_text = \"\"\n",
    "for page in pdf_reader.pages:\n",
    "    full_text += page.extract_text() + \"\\n\"\n",
    "\n",
    "# Initialize the text splitter\n",
    "text_splitter = RecursiveCharacterTextSplitter(\n",
    "    chunk_size=100,\n",
    "    chunk_overlap=20,\n",
    "    length_function=len\n",
    ")\n",
    "\n",
    "# Create chunks from the extracted text\n",
    "chunks = text_splitter.create_documents([full_text])\n",
    "print(chunks[0])\n",
    "print(len(chunks))\n",
    "\n",
    "# Create embeddings\n",
    "from langchain.embeddings import  OpenAIEmbeddings\n",
    "# Read config file to get API_KEY and ORG_ID values\n",
    "with open(\"../parameters/config.json\") as config:\n",
    "    param = json.load(config)\n",
    "api_key = param['GPT']['API']\n",
    "\n",
    "embeddings = OpenAIEmbeddings(api_key = api_key)\n",
    "vector = embeddings.embed_query(chunks[0].page_content)\n"
   ],
   "metadata": {
    "collapsed": false,
    "ExecuteTime": {
     "end_time": "2023-12-07T03:52:24.719453300Z",
     "start_time": "2023-12-07T03:52:24.478009900Z"
    }
   },
   "id": "21dfc7c1e131d499"
  },
  {
   "cell_type": "code",
   "execution_count": null,
   "outputs": [],
   "source": [
    "Pinecone.from_documents(chunks, embeddings,index_name = index_name)"
   ],
   "metadata": {
    "collapsed": false
   },
   "id": "9f7719f30359ab71"
  },
  {
   "cell_type": "code",
   "execution_count": null,
   "outputs": [],
   "source": [
    "## Asking Questions ( Similarity Search)\n",
    "vector_store = Pinecone.from_documents(chunks,embeddings,index_name=index_name)\n",
    "query = 'Bodies of watter in Lumpkin county'\n",
    "results = vector_store.similarity_search(query)\n",
    "print(results)"
   ],
   "metadata": {
    "collapsed": false
   },
   "id": "da779698c40b7e09"
  },
  {
   "cell_type": "code",
   "execution_count": null,
   "outputs": [],
   "source": [
    "for r in results:\n",
    "    print(r.page_content)\n",
    "    print('-'*50)"
   ],
   "metadata": {
    "collapsed": false
   },
   "id": "bd2076e73995bfd7"
  },
  {
   "cell_type": "code",
   "execution_count": null,
   "outputs": [],
   "source": [
    "# Use LLM to get better answer\n",
    "from langchain.chains import RetrievalQA\n",
    "from langchain.chat_models import ChatOpenAI\n",
    "\n",
    "# Initialize the LLM with your API key and model parameters\n",
    "llm = ChatOpenAI(api_key=api_key, model_name='gpt-4-1106-preview', temperature=1)\n",
    "\n",
    "# Assuming vector_store is a Pinecone object and has a method like as_retriever\n",
    "# Adjust the method name and parameters according to the actual API\n",
    "retriever = vector_store.as_retriever(search_type='similarity', search_kwargs={'k': 3})\n",
    "\n",
    "# Initialize the RetrievalQA chain\n",
    "chain = RetrievalQA.from_chain_type(llm=llm, chain_type='stuff', retriever=retriever)\n"
   ],
   "metadata": {
    "collapsed": false
   },
   "id": "77cac6c5cb10693a"
  },
  {
   "cell_type": "code",
   "execution_count": null,
   "outputs": [],
   "source": [
    "query = 'What is latest stocking schedule in lumpking county'\n",
    "answer = chain.run(query)\n",
    "print(answer)"
   ],
   "metadata": {
    "collapsed": false
   },
   "id": "a756d90f8f7da581"
  }
 ],
 "metadata": {
  "kernelspec": {
   "display_name": "Python 3",
   "language": "python",
   "name": "python3"
  },
  "language_info": {
   "codemirror_mode": {
    "name": "ipython",
    "version": 2
   },
   "file_extension": ".py",
   "mimetype": "text/x-python",
   "name": "python",
   "nbconvert_exporter": "python",
   "pygments_lexer": "ipython2",
   "version": "2.7.6"
  }
 },
 "nbformat": 4,
 "nbformat_minor": 5
}
