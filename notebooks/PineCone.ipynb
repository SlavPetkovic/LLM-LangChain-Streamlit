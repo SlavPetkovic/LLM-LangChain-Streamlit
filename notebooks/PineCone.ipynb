{
 "cells": [
  {
   "cell_type": "markdown",
   "source": [
    "## Pinecone"
   ],
   "metadata": {
    "collapsed": false
   },
   "id": "f2bdbab9abc6b1fe"
  },
  {
   "cell_type": "code",
   "execution_count": 7,
   "outputs": [
    {
     "name": "stdout",
     "output_type": "stream",
     "text": [
      "9d3f4ffd-cc84-49ce-a06a-1bf3598f34cb\n"
     ]
    },
    {
     "data": {
      "text/plain": "VersionResponse(server='2.0.11', client='2.2.4')"
     },
     "execution_count": 7,
     "metadata": {},
     "output_type": "execute_result"
    }
   ],
   "source": [
    "import json\n",
    "import pinecone\n",
    "\n",
    "# Read config file to get API_KEY and ORG_ID values\n",
    "with open(\"../parameters/config.json\") as config:\n",
    "    param = json.load(config)\n",
    "\n",
    "api_key = param['PINECONE']['API']\n",
    "env = param['PINECONE']['ENV']\n",
    "print(api_key) \n",
    "pinecone.init(api_key = api_key, environment= env)\n",
    "\n",
    "pinecone.info.version()"
   ],
   "metadata": {
    "collapsed": false,
    "ExecuteTime": {
     "end_time": "2023-12-03T04:05:03.036925200Z",
     "start_time": "2023-12-03T04:05:02.562728400Z"
    }
   },
   "id": "c0282fa23ab1e459"
  },
  {
   "cell_type": "code",
   "execution_count": 6,
   "outputs": [
    {
     "name": "stdout",
     "output_type": "stream",
     "text": [
      "Create index langchain-pinecone\n"
     ]
    },
    {
     "ename": "ApiException",
     "evalue": "(400)\nReason: Bad Request\nHTTP response headers: HTTPHeaderDict({'content-type': 'text/plain; charset=utf-8', 'Content-Length': '140', 'date': 'Sun, 03 Dec 2023 04:03:35 GMT', 'x-envoy-upstream-service-time': '3', 'server': 'envoy', 'Via': '1.1 google', 'Alt-Svc': 'h3=\":443\"; ma=2592000,h3-29=\":443\"; ma=2592000'})\nHTTP response body: Capacity Reached. Starter Projects support a single index. Create a new project to add more. Your Starter Project remains free post-upgrade.\n",
     "output_type": "error",
     "traceback": [
      "\u001B[1;31m---------------------------------------------------------------------------\u001B[0m",
      "\u001B[1;31mApiException\u001B[0m                              Traceback (most recent call last)",
      "Cell \u001B[1;32mIn[6], line 5\u001B[0m\n\u001B[0;32m      3\u001B[0m \u001B[38;5;28;01mif\u001B[39;00m index_name \u001B[38;5;129;01mnot\u001B[39;00m \u001B[38;5;129;01min\u001B[39;00m pinecone\u001B[38;5;241m.\u001B[39mlist_indexes():\n\u001B[0;32m      4\u001B[0m     \u001B[38;5;28mprint\u001B[39m(\u001B[38;5;124mf\u001B[39m\u001B[38;5;124m'\u001B[39m\u001B[38;5;124mCreate index \u001B[39m\u001B[38;5;132;01m{\u001B[39;00mindex_name\u001B[38;5;132;01m}\u001B[39;00m\u001B[38;5;124m'\u001B[39m)\n\u001B[1;32m----> 5\u001B[0m     \u001B[43mpinecone\u001B[49m\u001B[38;5;241;43m.\u001B[39;49m\u001B[43mcreate_index\u001B[49m\u001B[43m(\u001B[49m\u001B[43mindex_name\u001B[49m\u001B[43m,\u001B[49m\u001B[43mdimension\u001B[49m\u001B[38;5;241;43m=\u001B[39;49m\u001B[38;5;241;43m1536\u001B[39;49m\u001B[43m,\u001B[49m\u001B[43m \u001B[49m\u001B[43mmetric\u001B[49m\u001B[38;5;241;43m=\u001B[39;49m\u001B[38;5;124;43m'\u001B[39;49m\u001B[38;5;124;43mcosine\u001B[39;49m\u001B[38;5;124;43m'\u001B[39;49m\u001B[43m,\u001B[49m\u001B[43m \u001B[49m\u001B[43mpods\u001B[49m\u001B[38;5;241;43m=\u001B[39;49m\u001B[38;5;241;43m1\u001B[39;49m\u001B[43m,\u001B[49m\u001B[43m \u001B[49m\u001B[43mpod_type\u001B[49m\u001B[38;5;241;43m=\u001B[39;49m\u001B[38;5;124;43m'\u001B[39;49m\u001B[38;5;124;43mp1.x2\u001B[39;49m\u001B[38;5;124;43m'\u001B[39;49m\u001B[43m)\u001B[49m\n\u001B[0;32m      6\u001B[0m     \u001B[38;5;28mprint\u001B[39m(\u001B[38;5;124m'\u001B[39m\u001B[38;5;124mDone\u001B[39m\u001B[38;5;124m'\u001B[39m)\n\u001B[0;32m      7\u001B[0m \u001B[38;5;28;01melse\u001B[39;00m:\n",
      "File \u001B[1;32m~\\PycharmProjects\\LLM-LangChain-Streamlit\\venv\\lib\\site-packages\\pinecone\\manage.py:118\u001B[0m, in \u001B[0;36mcreate_index\u001B[1;34m(name, dimension, timeout, index_type, metric, replicas, shards, pods, pod_type, index_config, metadata_config, source_collection)\u001B[0m\n\u001B[0;32m     82\u001B[0m \u001B[38;5;250m\u001B[39m\u001B[38;5;124;03m\"\"\"Creates a Pinecone index.\u001B[39;00m\n\u001B[0;32m     83\u001B[0m \n\u001B[0;32m     84\u001B[0m \u001B[38;5;124;03m:param name: the name of the index.\u001B[39;00m\n\u001B[1;32m   (...)\u001B[0m\n\u001B[0;32m    114\u001B[0m \u001B[38;5;124;03m:param timeout: Timeout for wait until index gets ready. If None, wait indefinitely; if >=0, time out after this many seconds; if -1, return immediately and do not wait. Default: None\u001B[39;00m\n\u001B[0;32m    115\u001B[0m \u001B[38;5;124;03m\"\"\"\u001B[39;00m\n\u001B[0;32m    116\u001B[0m api_instance \u001B[38;5;241m=\u001B[39m _get_api_instance()\n\u001B[1;32m--> 118\u001B[0m \u001B[43mapi_instance\u001B[49m\u001B[38;5;241;43m.\u001B[39;49m\u001B[43mcreate_index\u001B[49m\u001B[43m(\u001B[49m\u001B[43mcreate_request\u001B[49m\u001B[38;5;241;43m=\u001B[39;49m\u001B[43mCreateRequest\u001B[49m\u001B[43m(\u001B[49m\n\u001B[0;32m    119\u001B[0m \u001B[43m    \u001B[49m\u001B[43mname\u001B[49m\u001B[38;5;241;43m=\u001B[39;49m\u001B[43mname\u001B[49m\u001B[43m,\u001B[49m\n\u001B[0;32m    120\u001B[0m \u001B[43m    \u001B[49m\u001B[43mdimension\u001B[49m\u001B[38;5;241;43m=\u001B[39;49m\u001B[43mdimension\u001B[49m\u001B[43m,\u001B[49m\n\u001B[0;32m    121\u001B[0m \u001B[43m    \u001B[49m\u001B[43mindex_type\u001B[49m\u001B[38;5;241;43m=\u001B[39;49m\u001B[43mindex_type\u001B[49m\u001B[43m,\u001B[49m\n\u001B[0;32m    122\u001B[0m \u001B[43m    \u001B[49m\u001B[43mmetric\u001B[49m\u001B[38;5;241;43m=\u001B[39;49m\u001B[43mmetric\u001B[49m\u001B[43m,\u001B[49m\n\u001B[0;32m    123\u001B[0m \u001B[43m    \u001B[49m\u001B[43mreplicas\u001B[49m\u001B[38;5;241;43m=\u001B[39;49m\u001B[43mreplicas\u001B[49m\u001B[43m,\u001B[49m\n\u001B[0;32m    124\u001B[0m \u001B[43m    \u001B[49m\u001B[43mshards\u001B[49m\u001B[38;5;241;43m=\u001B[39;49m\u001B[43mshards\u001B[49m\u001B[43m,\u001B[49m\n\u001B[0;32m    125\u001B[0m \u001B[43m    \u001B[49m\u001B[43mpods\u001B[49m\u001B[38;5;241;43m=\u001B[39;49m\u001B[43mpods\u001B[49m\u001B[43m,\u001B[49m\n\u001B[0;32m    126\u001B[0m \u001B[43m    \u001B[49m\u001B[43mpod_type\u001B[49m\u001B[38;5;241;43m=\u001B[39;49m\u001B[43mpod_type\u001B[49m\u001B[43m,\u001B[49m\n\u001B[0;32m    127\u001B[0m \u001B[43m    \u001B[49m\u001B[43mindex_config\u001B[49m\u001B[38;5;241;43m=\u001B[39;49m\u001B[43mindex_config\u001B[49m\u001B[43m \u001B[49m\u001B[38;5;129;43;01mor\u001B[39;49;00m\u001B[43m \u001B[49m\u001B[43m{\u001B[49m\u001B[43m}\u001B[49m\u001B[43m,\u001B[49m\n\u001B[0;32m    128\u001B[0m \u001B[43m    \u001B[49m\u001B[43mmetadata_config\u001B[49m\u001B[38;5;241;43m=\u001B[39;49m\u001B[43mmetadata_config\u001B[49m\u001B[43m,\u001B[49m\n\u001B[0;32m    129\u001B[0m \u001B[43m    \u001B[49m\u001B[43msource_collection\u001B[49m\u001B[38;5;241;43m=\u001B[39;49m\u001B[43msource_collection\u001B[49m\n\u001B[0;32m    130\u001B[0m \u001B[43m\u001B[49m\u001B[43m)\u001B[49m\u001B[43m)\u001B[49m\n\u001B[0;32m    132\u001B[0m \u001B[38;5;28;01mdef\u001B[39;00m \u001B[38;5;21mis_ready\u001B[39m():\n\u001B[0;32m    133\u001B[0m     status \u001B[38;5;241m=\u001B[39m _get_status(name)\n",
      "File \u001B[1;32m~\\PycharmProjects\\LLM-LangChain-Streamlit\\venv\\lib\\site-packages\\pinecone\\core\\client\\api_client.py:776\u001B[0m, in \u001B[0;36mEndpoint.__call__\u001B[1;34m(self, *args, **kwargs)\u001B[0m\n\u001B[0;32m    765\u001B[0m \u001B[38;5;28;01mdef\u001B[39;00m \u001B[38;5;21m__call__\u001B[39m(\u001B[38;5;28mself\u001B[39m, \u001B[38;5;241m*\u001B[39margs, \u001B[38;5;241m*\u001B[39m\u001B[38;5;241m*\u001B[39mkwargs):\n\u001B[0;32m    766\u001B[0m \u001B[38;5;250m    \u001B[39m\u001B[38;5;124;03m\"\"\" This method is invoked when endpoints are called\u001B[39;00m\n\u001B[0;32m    767\u001B[0m \u001B[38;5;124;03m    Example:\u001B[39;00m\n\u001B[0;32m    768\u001B[0m \n\u001B[1;32m   (...)\u001B[0m\n\u001B[0;32m    774\u001B[0m \n\u001B[0;32m    775\u001B[0m \u001B[38;5;124;03m    \"\"\"\u001B[39;00m\n\u001B[1;32m--> 776\u001B[0m     \u001B[38;5;28;01mreturn\u001B[39;00m \u001B[38;5;28mself\u001B[39m\u001B[38;5;241m.\u001B[39mcallable(\u001B[38;5;28mself\u001B[39m, \u001B[38;5;241m*\u001B[39margs, \u001B[38;5;241m*\u001B[39m\u001B[38;5;241m*\u001B[39mkwargs)\n",
      "File \u001B[1;32m~\\PycharmProjects\\LLM-LangChain-Streamlit\\venv\\lib\\site-packages\\pinecone\\core\\client\\api\\index_operations_api.py:368\u001B[0m, in \u001B[0;36mIndexOperationsApi.__init__.<locals>.__create_index\u001B[1;34m(self, **kwargs)\u001B[0m\n\u001B[0;32m    364\u001B[0m kwargs[\u001B[38;5;124m'\u001B[39m\u001B[38;5;124m_check_return_type\u001B[39m\u001B[38;5;124m'\u001B[39m] \u001B[38;5;241m=\u001B[39m kwargs\u001B[38;5;241m.\u001B[39mget(\n\u001B[0;32m    365\u001B[0m     \u001B[38;5;124m'\u001B[39m\u001B[38;5;124m_check_return_type\u001B[39m\u001B[38;5;124m'\u001B[39m, \u001B[38;5;28;01mTrue\u001B[39;00m\n\u001B[0;32m    366\u001B[0m )\n\u001B[0;32m    367\u001B[0m kwargs[\u001B[38;5;124m'\u001B[39m\u001B[38;5;124m_host_index\u001B[39m\u001B[38;5;124m'\u001B[39m] \u001B[38;5;241m=\u001B[39m kwargs\u001B[38;5;241m.\u001B[39mget(\u001B[38;5;124m'\u001B[39m\u001B[38;5;124m_host_index\u001B[39m\u001B[38;5;124m'\u001B[39m)\n\u001B[1;32m--> 368\u001B[0m \u001B[38;5;28;01mreturn\u001B[39;00m \u001B[38;5;28mself\u001B[39m\u001B[38;5;241m.\u001B[39mcall_with_http_info(\u001B[38;5;241m*\u001B[39m\u001B[38;5;241m*\u001B[39mkwargs)\n",
      "File \u001B[1;32m~\\PycharmProjects\\LLM-LangChain-Streamlit\\venv\\lib\\site-packages\\pinecone\\core\\client\\api_client.py:838\u001B[0m, in \u001B[0;36mEndpoint.call_with_http_info\u001B[1;34m(self, **kwargs)\u001B[0m\n\u001B[0;32m    834\u001B[0m     header_list \u001B[38;5;241m=\u001B[39m \u001B[38;5;28mself\u001B[39m\u001B[38;5;241m.\u001B[39mapi_client\u001B[38;5;241m.\u001B[39mselect_header_content_type(\n\u001B[0;32m    835\u001B[0m         content_type_headers_list)\n\u001B[0;32m    836\u001B[0m     params[\u001B[38;5;124m'\u001B[39m\u001B[38;5;124mheader\u001B[39m\u001B[38;5;124m'\u001B[39m][\u001B[38;5;124m'\u001B[39m\u001B[38;5;124mContent-Type\u001B[39m\u001B[38;5;124m'\u001B[39m] \u001B[38;5;241m=\u001B[39m header_list\n\u001B[1;32m--> 838\u001B[0m \u001B[38;5;28;01mreturn\u001B[39;00m \u001B[38;5;28;43mself\u001B[39;49m\u001B[38;5;241;43m.\u001B[39;49m\u001B[43mapi_client\u001B[49m\u001B[38;5;241;43m.\u001B[39;49m\u001B[43mcall_api\u001B[49m\u001B[43m(\u001B[49m\n\u001B[0;32m    839\u001B[0m \u001B[43m    \u001B[49m\u001B[38;5;28;43mself\u001B[39;49m\u001B[38;5;241;43m.\u001B[39;49m\u001B[43msettings\u001B[49m\u001B[43m[\u001B[49m\u001B[38;5;124;43m'\u001B[39;49m\u001B[38;5;124;43mendpoint_path\u001B[39;49m\u001B[38;5;124;43m'\u001B[39;49m\u001B[43m]\u001B[49m\u001B[43m,\u001B[49m\u001B[43m \u001B[49m\u001B[38;5;28;43mself\u001B[39;49m\u001B[38;5;241;43m.\u001B[39;49m\u001B[43msettings\u001B[49m\u001B[43m[\u001B[49m\u001B[38;5;124;43m'\u001B[39;49m\u001B[38;5;124;43mhttp_method\u001B[39;49m\u001B[38;5;124;43m'\u001B[39;49m\u001B[43m]\u001B[49m\u001B[43m,\u001B[49m\n\u001B[0;32m    840\u001B[0m \u001B[43m    \u001B[49m\u001B[43mparams\u001B[49m\u001B[43m[\u001B[49m\u001B[38;5;124;43m'\u001B[39;49m\u001B[38;5;124;43mpath\u001B[39;49m\u001B[38;5;124;43m'\u001B[39;49m\u001B[43m]\u001B[49m\u001B[43m,\u001B[49m\n\u001B[0;32m    841\u001B[0m \u001B[43m    \u001B[49m\u001B[43mparams\u001B[49m\u001B[43m[\u001B[49m\u001B[38;5;124;43m'\u001B[39;49m\u001B[38;5;124;43mquery\u001B[39;49m\u001B[38;5;124;43m'\u001B[39;49m\u001B[43m]\u001B[49m\u001B[43m,\u001B[49m\n\u001B[0;32m    842\u001B[0m \u001B[43m    \u001B[49m\u001B[43mparams\u001B[49m\u001B[43m[\u001B[49m\u001B[38;5;124;43m'\u001B[39;49m\u001B[38;5;124;43mheader\u001B[39;49m\u001B[38;5;124;43m'\u001B[39;49m\u001B[43m]\u001B[49m\u001B[43m,\u001B[49m\n\u001B[0;32m    843\u001B[0m \u001B[43m    \u001B[49m\u001B[43mbody\u001B[49m\u001B[38;5;241;43m=\u001B[39;49m\u001B[43mparams\u001B[49m\u001B[43m[\u001B[49m\u001B[38;5;124;43m'\u001B[39;49m\u001B[38;5;124;43mbody\u001B[39;49m\u001B[38;5;124;43m'\u001B[39;49m\u001B[43m]\u001B[49m\u001B[43m,\u001B[49m\n\u001B[0;32m    844\u001B[0m \u001B[43m    \u001B[49m\u001B[43mpost_params\u001B[49m\u001B[38;5;241;43m=\u001B[39;49m\u001B[43mparams\u001B[49m\u001B[43m[\u001B[49m\u001B[38;5;124;43m'\u001B[39;49m\u001B[38;5;124;43mform\u001B[39;49m\u001B[38;5;124;43m'\u001B[39;49m\u001B[43m]\u001B[49m\u001B[43m,\u001B[49m\n\u001B[0;32m    845\u001B[0m \u001B[43m    \u001B[49m\u001B[43mfiles\u001B[49m\u001B[38;5;241;43m=\u001B[39;49m\u001B[43mparams\u001B[49m\u001B[43m[\u001B[49m\u001B[38;5;124;43m'\u001B[39;49m\u001B[38;5;124;43mfile\u001B[39;49m\u001B[38;5;124;43m'\u001B[39;49m\u001B[43m]\u001B[49m\u001B[43m,\u001B[49m\n\u001B[0;32m    846\u001B[0m \u001B[43m    \u001B[49m\u001B[43mresponse_type\u001B[49m\u001B[38;5;241;43m=\u001B[39;49m\u001B[38;5;28;43mself\u001B[39;49m\u001B[38;5;241;43m.\u001B[39;49m\u001B[43msettings\u001B[49m\u001B[43m[\u001B[49m\u001B[38;5;124;43m'\u001B[39;49m\u001B[38;5;124;43mresponse_type\u001B[39;49m\u001B[38;5;124;43m'\u001B[39;49m\u001B[43m]\u001B[49m\u001B[43m,\u001B[49m\n\u001B[0;32m    847\u001B[0m \u001B[43m    \u001B[49m\u001B[43mauth_settings\u001B[49m\u001B[38;5;241;43m=\u001B[39;49m\u001B[38;5;28;43mself\u001B[39;49m\u001B[38;5;241;43m.\u001B[39;49m\u001B[43msettings\u001B[49m\u001B[43m[\u001B[49m\u001B[38;5;124;43m'\u001B[39;49m\u001B[38;5;124;43mauth\u001B[39;49m\u001B[38;5;124;43m'\u001B[39;49m\u001B[43m]\u001B[49m\u001B[43m,\u001B[49m\n\u001B[0;32m    848\u001B[0m \u001B[43m    \u001B[49m\u001B[43masync_req\u001B[49m\u001B[38;5;241;43m=\u001B[39;49m\u001B[43mkwargs\u001B[49m\u001B[43m[\u001B[49m\u001B[38;5;124;43m'\u001B[39;49m\u001B[38;5;124;43masync_req\u001B[39;49m\u001B[38;5;124;43m'\u001B[39;49m\u001B[43m]\u001B[49m\u001B[43m,\u001B[49m\n\u001B[0;32m    849\u001B[0m \u001B[43m    \u001B[49m\u001B[43m_check_type\u001B[49m\u001B[38;5;241;43m=\u001B[39;49m\u001B[43mkwargs\u001B[49m\u001B[43m[\u001B[49m\u001B[38;5;124;43m'\u001B[39;49m\u001B[38;5;124;43m_check_return_type\u001B[39;49m\u001B[38;5;124;43m'\u001B[39;49m\u001B[43m]\u001B[49m\u001B[43m,\u001B[49m\n\u001B[0;32m    850\u001B[0m \u001B[43m    \u001B[49m\u001B[43m_return_http_data_only\u001B[49m\u001B[38;5;241;43m=\u001B[39;49m\u001B[43mkwargs\u001B[49m\u001B[43m[\u001B[49m\u001B[38;5;124;43m'\u001B[39;49m\u001B[38;5;124;43m_return_http_data_only\u001B[39;49m\u001B[38;5;124;43m'\u001B[39;49m\u001B[43m]\u001B[49m\u001B[43m,\u001B[49m\n\u001B[0;32m    851\u001B[0m \u001B[43m    \u001B[49m\u001B[43m_preload_content\u001B[49m\u001B[38;5;241;43m=\u001B[39;49m\u001B[43mkwargs\u001B[49m\u001B[43m[\u001B[49m\u001B[38;5;124;43m'\u001B[39;49m\u001B[38;5;124;43m_preload_content\u001B[39;49m\u001B[38;5;124;43m'\u001B[39;49m\u001B[43m]\u001B[49m\u001B[43m,\u001B[49m\n\u001B[0;32m    852\u001B[0m \u001B[43m    \u001B[49m\u001B[43m_request_timeout\u001B[49m\u001B[38;5;241;43m=\u001B[39;49m\u001B[43mkwargs\u001B[49m\u001B[43m[\u001B[49m\u001B[38;5;124;43m'\u001B[39;49m\u001B[38;5;124;43m_request_timeout\u001B[39;49m\u001B[38;5;124;43m'\u001B[39;49m\u001B[43m]\u001B[49m\u001B[43m,\u001B[49m\n\u001B[0;32m    853\u001B[0m \u001B[43m    \u001B[49m\u001B[43m_host\u001B[49m\u001B[38;5;241;43m=\u001B[39;49m\u001B[43m_host\u001B[49m\u001B[43m,\u001B[49m\n\u001B[0;32m    854\u001B[0m \u001B[43m    \u001B[49m\u001B[43mcollection_formats\u001B[49m\u001B[38;5;241;43m=\u001B[39;49m\u001B[43mparams\u001B[49m\u001B[43m[\u001B[49m\u001B[38;5;124;43m'\u001B[39;49m\u001B[38;5;124;43mcollection_format\u001B[39;49m\u001B[38;5;124;43m'\u001B[39;49m\u001B[43m]\u001B[49m\u001B[43m)\u001B[49m\n",
      "File \u001B[1;32m~\\PycharmProjects\\LLM-LangChain-Streamlit\\venv\\lib\\site-packages\\pinecone\\core\\client\\api_client.py:413\u001B[0m, in \u001B[0;36mApiClient.call_api\u001B[1;34m(self, resource_path, method, path_params, query_params, header_params, body, post_params, files, response_type, auth_settings, async_req, _return_http_data_only, collection_formats, _preload_content, _request_timeout, _host, _check_type)\u001B[0m\n\u001B[0;32m    359\u001B[0m \u001B[38;5;250m\u001B[39m\u001B[38;5;124;03m\"\"\"Makes the HTTP request (synchronous) and returns deserialized data.\u001B[39;00m\n\u001B[0;32m    360\u001B[0m \n\u001B[0;32m    361\u001B[0m \u001B[38;5;124;03mTo make an async_req request, set the async_req parameter.\u001B[39;00m\n\u001B[1;32m   (...)\u001B[0m\n\u001B[0;32m    410\u001B[0m \u001B[38;5;124;03m    then the method will return the response directly.\u001B[39;00m\n\u001B[0;32m    411\u001B[0m \u001B[38;5;124;03m\"\"\"\u001B[39;00m\n\u001B[0;32m    412\u001B[0m \u001B[38;5;28;01mif\u001B[39;00m \u001B[38;5;129;01mnot\u001B[39;00m async_req:\n\u001B[1;32m--> 413\u001B[0m     \u001B[38;5;28;01mreturn\u001B[39;00m \u001B[38;5;28;43mself\u001B[39;49m\u001B[38;5;241;43m.\u001B[39;49m\u001B[43m__call_api\u001B[49m\u001B[43m(\u001B[49m\u001B[43mresource_path\u001B[49m\u001B[43m,\u001B[49m\u001B[43m \u001B[49m\u001B[43mmethod\u001B[49m\u001B[43m,\u001B[49m\n\u001B[0;32m    414\u001B[0m \u001B[43m                           \u001B[49m\u001B[43mpath_params\u001B[49m\u001B[43m,\u001B[49m\u001B[43m \u001B[49m\u001B[43mquery_params\u001B[49m\u001B[43m,\u001B[49m\u001B[43m \u001B[49m\u001B[43mheader_params\u001B[49m\u001B[43m,\u001B[49m\n\u001B[0;32m    415\u001B[0m \u001B[43m                           \u001B[49m\u001B[43mbody\u001B[49m\u001B[43m,\u001B[49m\u001B[43m \u001B[49m\u001B[43mpost_params\u001B[49m\u001B[43m,\u001B[49m\u001B[43m \u001B[49m\u001B[43mfiles\u001B[49m\u001B[43m,\u001B[49m\n\u001B[0;32m    416\u001B[0m \u001B[43m                           \u001B[49m\u001B[43mresponse_type\u001B[49m\u001B[43m,\u001B[49m\u001B[43m \u001B[49m\u001B[43mauth_settings\u001B[49m\u001B[43m,\u001B[49m\n\u001B[0;32m    417\u001B[0m \u001B[43m                           \u001B[49m\u001B[43m_return_http_data_only\u001B[49m\u001B[43m,\u001B[49m\u001B[43m \u001B[49m\u001B[43mcollection_formats\u001B[49m\u001B[43m,\u001B[49m\n\u001B[0;32m    418\u001B[0m \u001B[43m                           \u001B[49m\u001B[43m_preload_content\u001B[49m\u001B[43m,\u001B[49m\u001B[43m \u001B[49m\u001B[43m_request_timeout\u001B[49m\u001B[43m,\u001B[49m\u001B[43m \u001B[49m\u001B[43m_host\u001B[49m\u001B[43m,\u001B[49m\n\u001B[0;32m    419\u001B[0m \u001B[43m                           \u001B[49m\u001B[43m_check_type\u001B[49m\u001B[43m)\u001B[49m\n\u001B[0;32m    421\u001B[0m \u001B[38;5;28;01mreturn\u001B[39;00m \u001B[38;5;28mself\u001B[39m\u001B[38;5;241m.\u001B[39mpool\u001B[38;5;241m.\u001B[39mapply_async(\u001B[38;5;28mself\u001B[39m\u001B[38;5;241m.\u001B[39m__call_api, (resource_path,\n\u001B[0;32m    422\u001B[0m                                                method, path_params,\n\u001B[0;32m    423\u001B[0m                                                query_params,\n\u001B[1;32m   (...)\u001B[0m\n\u001B[0;32m    431\u001B[0m                                                _request_timeout,\n\u001B[0;32m    432\u001B[0m                                                _host, _check_type))\n",
      "File \u001B[1;32m~\\PycharmProjects\\LLM-LangChain-Streamlit\\venv\\lib\\site-packages\\pinecone\\core\\client\\api_client.py:207\u001B[0m, in \u001B[0;36mApiClient.__call_api\u001B[1;34m(self, resource_path, method, path_params, query_params, header_params, body, post_params, files, response_type, auth_settings, _return_http_data_only, collection_formats, _preload_content, _request_timeout, _host, _check_type)\u001B[0m\n\u001B[0;32m    205\u001B[0m \u001B[38;5;28;01mexcept\u001B[39;00m ApiException \u001B[38;5;28;01mas\u001B[39;00m e:\n\u001B[0;32m    206\u001B[0m     e\u001B[38;5;241m.\u001B[39mbody \u001B[38;5;241m=\u001B[39m e\u001B[38;5;241m.\u001B[39mbody\u001B[38;5;241m.\u001B[39mdecode(\u001B[38;5;124m'\u001B[39m\u001B[38;5;124mutf-8\u001B[39m\u001B[38;5;124m'\u001B[39m)\n\u001B[1;32m--> 207\u001B[0m     \u001B[38;5;28;01mraise\u001B[39;00m e\n\u001B[0;32m    209\u001B[0m \u001B[38;5;28mself\u001B[39m\u001B[38;5;241m.\u001B[39mlast_response \u001B[38;5;241m=\u001B[39m response_data\n\u001B[0;32m    211\u001B[0m return_data \u001B[38;5;241m=\u001B[39m response_data\n",
      "File \u001B[1;32m~\\PycharmProjects\\LLM-LangChain-Streamlit\\venv\\lib\\site-packages\\pinecone\\core\\client\\api_client.py:200\u001B[0m, in \u001B[0;36mApiClient.__call_api\u001B[1;34m(self, resource_path, method, path_params, query_params, header_params, body, post_params, files, response_type, auth_settings, _return_http_data_only, collection_formats, _preload_content, _request_timeout, _host, _check_type)\u001B[0m\n\u001B[0;32m    196\u001B[0m     url \u001B[38;5;241m=\u001B[39m _host \u001B[38;5;241m+\u001B[39m resource_path\n\u001B[0;32m    198\u001B[0m \u001B[38;5;28;01mtry\u001B[39;00m:\n\u001B[0;32m    199\u001B[0m     \u001B[38;5;66;03m# perform request and return response\u001B[39;00m\n\u001B[1;32m--> 200\u001B[0m     response_data \u001B[38;5;241m=\u001B[39m \u001B[38;5;28;43mself\u001B[39;49m\u001B[38;5;241;43m.\u001B[39;49m\u001B[43mrequest\u001B[49m\u001B[43m(\u001B[49m\n\u001B[0;32m    201\u001B[0m \u001B[43m        \u001B[49m\u001B[43mmethod\u001B[49m\u001B[43m,\u001B[49m\u001B[43m \u001B[49m\u001B[43murl\u001B[49m\u001B[43m,\u001B[49m\u001B[43m \u001B[49m\u001B[43mquery_params\u001B[49m\u001B[38;5;241;43m=\u001B[39;49m\u001B[43mquery_params\u001B[49m\u001B[43m,\u001B[49m\u001B[43m \u001B[49m\u001B[43mheaders\u001B[49m\u001B[38;5;241;43m=\u001B[39;49m\u001B[43mheader_params\u001B[49m\u001B[43m,\u001B[49m\n\u001B[0;32m    202\u001B[0m \u001B[43m        \u001B[49m\u001B[43mpost_params\u001B[49m\u001B[38;5;241;43m=\u001B[39;49m\u001B[43mpost_params\u001B[49m\u001B[43m,\u001B[49m\u001B[43m \u001B[49m\u001B[43mbody\u001B[49m\u001B[38;5;241;43m=\u001B[39;49m\u001B[43mbody\u001B[49m\u001B[43m,\u001B[49m\n\u001B[0;32m    203\u001B[0m \u001B[43m        \u001B[49m\u001B[43m_preload_content\u001B[49m\u001B[38;5;241;43m=\u001B[39;49m\u001B[43m_preload_content\u001B[49m\u001B[43m,\u001B[49m\n\u001B[0;32m    204\u001B[0m \u001B[43m        \u001B[49m\u001B[43m_request_timeout\u001B[49m\u001B[38;5;241;43m=\u001B[39;49m\u001B[43m_request_timeout\u001B[49m\u001B[43m)\u001B[49m\n\u001B[0;32m    205\u001B[0m \u001B[38;5;28;01mexcept\u001B[39;00m ApiException \u001B[38;5;28;01mas\u001B[39;00m e:\n\u001B[0;32m    206\u001B[0m     e\u001B[38;5;241m.\u001B[39mbody \u001B[38;5;241m=\u001B[39m e\u001B[38;5;241m.\u001B[39mbody\u001B[38;5;241m.\u001B[39mdecode(\u001B[38;5;124m'\u001B[39m\u001B[38;5;124mutf-8\u001B[39m\u001B[38;5;124m'\u001B[39m)\n",
      "File \u001B[1;32m~\\PycharmProjects\\LLM-LangChain-Streamlit\\venv\\lib\\site-packages\\pinecone\\core\\client\\api_client.py:459\u001B[0m, in \u001B[0;36mApiClient.request\u001B[1;34m(self, method, url, query_params, headers, post_params, body, _preload_content, _request_timeout)\u001B[0m\n\u001B[0;32m    451\u001B[0m     \u001B[38;5;28;01mreturn\u001B[39;00m \u001B[38;5;28mself\u001B[39m\u001B[38;5;241m.\u001B[39mrest_client\u001B[38;5;241m.\u001B[39mOPTIONS(url,\n\u001B[0;32m    452\u001B[0m                                     query_params\u001B[38;5;241m=\u001B[39mquery_params,\n\u001B[0;32m    453\u001B[0m                                     headers\u001B[38;5;241m=\u001B[39mheaders,\n\u001B[1;32m   (...)\u001B[0m\n\u001B[0;32m    456\u001B[0m                                     _request_timeout\u001B[38;5;241m=\u001B[39m_request_timeout,\n\u001B[0;32m    457\u001B[0m                                     body\u001B[38;5;241m=\u001B[39mbody)\n\u001B[0;32m    458\u001B[0m \u001B[38;5;28;01melif\u001B[39;00m method \u001B[38;5;241m==\u001B[39m \u001B[38;5;124m\"\u001B[39m\u001B[38;5;124mPOST\u001B[39m\u001B[38;5;124m\"\u001B[39m:\n\u001B[1;32m--> 459\u001B[0m     \u001B[38;5;28;01mreturn\u001B[39;00m \u001B[38;5;28;43mself\u001B[39;49m\u001B[38;5;241;43m.\u001B[39;49m\u001B[43mrest_client\u001B[49m\u001B[38;5;241;43m.\u001B[39;49m\u001B[43mPOST\u001B[49m\u001B[43m(\u001B[49m\u001B[43murl\u001B[49m\u001B[43m,\u001B[49m\n\u001B[0;32m    460\u001B[0m \u001B[43m                                 \u001B[49m\u001B[43mquery_params\u001B[49m\u001B[38;5;241;43m=\u001B[39;49m\u001B[43mquery_params\u001B[49m\u001B[43m,\u001B[49m\n\u001B[0;32m    461\u001B[0m \u001B[43m                                 \u001B[49m\u001B[43mheaders\u001B[49m\u001B[38;5;241;43m=\u001B[39;49m\u001B[43mheaders\u001B[49m\u001B[43m,\u001B[49m\n\u001B[0;32m    462\u001B[0m \u001B[43m                                 \u001B[49m\u001B[43mpost_params\u001B[49m\u001B[38;5;241;43m=\u001B[39;49m\u001B[43mpost_params\u001B[49m\u001B[43m,\u001B[49m\n\u001B[0;32m    463\u001B[0m \u001B[43m                                 \u001B[49m\u001B[43m_preload_content\u001B[49m\u001B[38;5;241;43m=\u001B[39;49m\u001B[43m_preload_content\u001B[49m\u001B[43m,\u001B[49m\n\u001B[0;32m    464\u001B[0m \u001B[43m                                 \u001B[49m\u001B[43m_request_timeout\u001B[49m\u001B[38;5;241;43m=\u001B[39;49m\u001B[43m_request_timeout\u001B[49m\u001B[43m,\u001B[49m\n\u001B[0;32m    465\u001B[0m \u001B[43m                                 \u001B[49m\u001B[43mbody\u001B[49m\u001B[38;5;241;43m=\u001B[39;49m\u001B[43mbody\u001B[49m\u001B[43m)\u001B[49m\n\u001B[0;32m    466\u001B[0m \u001B[38;5;28;01melif\u001B[39;00m method \u001B[38;5;241m==\u001B[39m \u001B[38;5;124m\"\u001B[39m\u001B[38;5;124mPUT\u001B[39m\u001B[38;5;124m\"\u001B[39m:\n\u001B[0;32m    467\u001B[0m     \u001B[38;5;28;01mreturn\u001B[39;00m \u001B[38;5;28mself\u001B[39m\u001B[38;5;241m.\u001B[39mrest_client\u001B[38;5;241m.\u001B[39mPUT(url,\n\u001B[0;32m    468\u001B[0m                                 query_params\u001B[38;5;241m=\u001B[39mquery_params,\n\u001B[0;32m    469\u001B[0m                                 headers\u001B[38;5;241m=\u001B[39mheaders,\n\u001B[1;32m   (...)\u001B[0m\n\u001B[0;32m    472\u001B[0m                                 _request_timeout\u001B[38;5;241m=\u001B[39m_request_timeout,\n\u001B[0;32m    473\u001B[0m                                 body\u001B[38;5;241m=\u001B[39mbody)\n",
      "File \u001B[1;32m~\\PycharmProjects\\LLM-LangChain-Streamlit\\venv\\lib\\site-packages\\pinecone\\core\\client\\rest.py:271\u001B[0m, in \u001B[0;36mRESTClientObject.POST\u001B[1;34m(self, url, headers, query_params, post_params, body, _preload_content, _request_timeout)\u001B[0m\n\u001B[0;32m    269\u001B[0m \u001B[38;5;28;01mdef\u001B[39;00m \u001B[38;5;21mPOST\u001B[39m(\u001B[38;5;28mself\u001B[39m, url, headers\u001B[38;5;241m=\u001B[39m\u001B[38;5;28;01mNone\u001B[39;00m, query_params\u001B[38;5;241m=\u001B[39m\u001B[38;5;28;01mNone\u001B[39;00m, post_params\u001B[38;5;241m=\u001B[39m\u001B[38;5;28;01mNone\u001B[39;00m,\n\u001B[0;32m    270\u001B[0m          body\u001B[38;5;241m=\u001B[39m\u001B[38;5;28;01mNone\u001B[39;00m, _preload_content\u001B[38;5;241m=\u001B[39m\u001B[38;5;28;01mTrue\u001B[39;00m, _request_timeout\u001B[38;5;241m=\u001B[39m\u001B[38;5;28;01mNone\u001B[39;00m):\n\u001B[1;32m--> 271\u001B[0m     \u001B[38;5;28;01mreturn\u001B[39;00m \u001B[38;5;28;43mself\u001B[39;49m\u001B[38;5;241;43m.\u001B[39;49m\u001B[43mrequest\u001B[49m\u001B[43m(\u001B[49m\u001B[38;5;124;43m\"\u001B[39;49m\u001B[38;5;124;43mPOST\u001B[39;49m\u001B[38;5;124;43m\"\u001B[39;49m\u001B[43m,\u001B[49m\u001B[43m \u001B[49m\u001B[43murl\u001B[49m\u001B[43m,\u001B[49m\n\u001B[0;32m    272\u001B[0m \u001B[43m                        \u001B[49m\u001B[43mheaders\u001B[49m\u001B[38;5;241;43m=\u001B[39;49m\u001B[43mheaders\u001B[49m\u001B[43m,\u001B[49m\n\u001B[0;32m    273\u001B[0m \u001B[43m                        \u001B[49m\u001B[43mquery_params\u001B[49m\u001B[38;5;241;43m=\u001B[39;49m\u001B[43mquery_params\u001B[49m\u001B[43m,\u001B[49m\n\u001B[0;32m    274\u001B[0m \u001B[43m                        \u001B[49m\u001B[43mpost_params\u001B[49m\u001B[38;5;241;43m=\u001B[39;49m\u001B[43mpost_params\u001B[49m\u001B[43m,\u001B[49m\n\u001B[0;32m    275\u001B[0m \u001B[43m                        \u001B[49m\u001B[43m_preload_content\u001B[49m\u001B[38;5;241;43m=\u001B[39;49m\u001B[43m_preload_content\u001B[49m\u001B[43m,\u001B[49m\n\u001B[0;32m    276\u001B[0m \u001B[43m                        \u001B[49m\u001B[43m_request_timeout\u001B[49m\u001B[38;5;241;43m=\u001B[39;49m\u001B[43m_request_timeout\u001B[49m\u001B[43m,\u001B[49m\n\u001B[0;32m    277\u001B[0m \u001B[43m                        \u001B[49m\u001B[43mbody\u001B[49m\u001B[38;5;241;43m=\u001B[39;49m\u001B[43mbody\u001B[49m\u001B[43m)\u001B[49m\n",
      "File \u001B[1;32m~\\PycharmProjects\\LLM-LangChain-Streamlit\\venv\\lib\\site-packages\\pinecone\\core\\client\\rest.py:230\u001B[0m, in \u001B[0;36mRESTClientObject.request\u001B[1;34m(self, method, url, query_params, headers, body, post_params, _preload_content, _request_timeout)\u001B[0m\n\u001B[0;32m    227\u001B[0m     \u001B[38;5;28;01mif\u001B[39;00m \u001B[38;5;241m500\u001B[39m \u001B[38;5;241m<\u001B[39m\u001B[38;5;241m=\u001B[39m r\u001B[38;5;241m.\u001B[39mstatus \u001B[38;5;241m<\u001B[39m\u001B[38;5;241m=\u001B[39m \u001B[38;5;241m599\u001B[39m:\n\u001B[0;32m    228\u001B[0m         \u001B[38;5;28;01mraise\u001B[39;00m ServiceException(http_resp\u001B[38;5;241m=\u001B[39mr)\n\u001B[1;32m--> 230\u001B[0m     \u001B[38;5;28;01mraise\u001B[39;00m ApiException(http_resp\u001B[38;5;241m=\u001B[39mr)\n\u001B[0;32m    232\u001B[0m \u001B[38;5;28;01mreturn\u001B[39;00m r\n",
      "\u001B[1;31mApiException\u001B[0m: (400)\nReason: Bad Request\nHTTP response headers: HTTPHeaderDict({'content-type': 'text/plain; charset=utf-8', 'Content-Length': '140', 'date': 'Sun, 03 Dec 2023 04:03:35 GMT', 'x-envoy-upstream-service-time': '3', 'server': 'envoy', 'Via': '1.1 google', 'Alt-Svc': 'h3=\":443\"; ma=2592000,h3-29=\":443\"; ma=2592000'})\nHTTP response body: Capacity Reached. Starter Projects support a single index. Create a new project to add more. Your Starter Project remains free post-upgrade.\n"
     ]
    }
   ],
   "source": [
    "# Create Pinecone index\n",
    "index_name = \"langchain-pinecone\"\n",
    "if index_name not in pinecone.list_indexes():\n",
    "    print(f'Create index {index_name}')\n",
    "    pinecone.create_index(index_name,dimension=1536, metric='cosine', pods=1, pod_type='p1.x2')\n",
    "    print('Done')\n",
    "else:\n",
    "    print(\"Index exists\")\n",
    "    \n",
    "pinecone.list_indexes()"
   ],
   "metadata": {
    "collapsed": false,
    "ExecuteTime": {
     "end_time": "2023-12-03T04:03:35.901428200Z",
     "start_time": "2023-12-03T04:03:35.471267800Z"
    }
   },
   "id": "583160614fcc004d"
  },
  {
   "cell_type": "code",
   "execution_count": null,
   "outputs": [],
   "source": [
    "# Delete Pinecone index\n",
    "\n",
    "index_name = \"langchain-pinecone\"\n",
    "if index_name in pinecone.list_indexes():\n",
    "    print(f'Deleting index {index_name}')\n",
    "    pinecone.delete_index(index_name)\n",
    "    print('Index Deleted')\n",
    "else:\n",
    "    print(f'Index {index_name} does not exist!')\n",
    "    "
   ],
   "metadata": {
    "collapsed": false,
    "ExecuteTime": {
     "end_time": "2023-12-03T04:03:35.912434300Z",
     "start_time": "2023-12-03T04:03:35.905429200Z"
    }
   },
   "id": "84e343bcfab96e53"
  },
  {
   "cell_type": "code",
   "execution_count": null,
   "outputs": [],
   "source": [
    "index_name = \"langchain-pinecone\"\n",
    "index = pinecone.Index(index_name)\n",
    "index.describe_index_stats()"
   ],
   "metadata": {
    "collapsed": false,
    "ExecuteTime": {
     "start_time": "2023-12-03T04:03:35.905429200Z"
    }
   },
   "id": "4cfd174f7417cb4f"
  },
  {
   "cell_type": "code",
   "execution_count": null,
   "outputs": [],
   "source": [
    "# Insert vectors\n",
    "import random\n",
    "vectors = [[random.random() for _ in range (1536)] for v in range (5)]\n",
    "# Vectors\n",
    "ids = list('abcde')\n",
    "\n",
    "index_name = \"langchain-pinecone\"\n",
    "index = pinecone.Index(index_name)\n",
    "index.upsert(vectors = zip(ids, vectors))"
   ],
   "metadata": {
    "collapsed": false,
    "ExecuteTime": {
     "start_time": "2023-12-03T04:03:35.906429Z"
    }
   },
   "id": "ff34b5de7fbc582f"
  },
  {
   "cell_type": "code",
   "execution_count": null,
   "outputs": [],
   "source": [
    "# Update vectors:\n",
    "index_name = \"langchain-pinecone\"\n",
    "index = pinecone.Index(index_name)\n",
    "index.upsert(vectors = [('c',[0.3]*1536)])\n"
   ],
   "metadata": {
    "collapsed": false,
    "ExecuteTime": {
     "start_time": "2023-12-03T04:03:35.908435100Z"
    }
   },
   "id": "4a6bab90edc87e0d"
  },
  {
   "cell_type": "code",
   "execution_count": null,
   "outputs": [],
   "source": [
    "# Fetch a vector\n",
    "index_name = \"langchain-pinecone\"\n",
    "index = pinecone.Index(index_name)\n",
    "index.fetch(ids)\n"
   ],
   "metadata": {
    "collapsed": false,
    "ExecuteTime": {
     "end_time": "2023-12-03T04:03:35.913434100Z",
     "start_time": "2023-12-03T04:03:35.912434300Z"
    }
   },
   "id": "cbad6f019ceda3bf"
  },
  {
   "cell_type": "code",
   "execution_count": null,
   "outputs": [],
   "source": [
    "# Delete Index \n",
    "index.delete(ids = ['b','c'])\n",
    "index.describe_index_stats()"
   ],
   "metadata": {
    "collapsed": false,
    "ExecuteTime": {
     "start_time": "2023-12-03T04:03:35.912434300Z"
    }
   },
   "id": "13de5719adf1e697"
  },
  {
   "cell_type": "code",
   "execution_count": null,
   "outputs": [],
   "source": [],
   "metadata": {
    "collapsed": false,
    "ExecuteTime": {
     "end_time": "2023-12-03T04:03:35.914434400Z",
     "start_time": "2023-12-03T04:03:35.913434100Z"
    }
   },
   "id": "f54fa93c4065daed"
  },
  {
   "cell_type": "markdown",
   "source": [
    "## Splitting and Embedding Text Using LangChain\n"
   ],
   "metadata": {
    "collapsed": false
   },
   "id": "e9047973a4a2bcbb"
  },
  {
   "cell_type": "code",
   "execution_count": 8,
   "outputs": [
    {
     "name": "stdout",
     "output_type": "stream",
     "text": [
      "page_content='Water Body County Stocking Schedule\\nBoggs Creek Lumpkin 2023-04-05\\nBoggs Creek Lumpkin 2023-04-12'\n",
      "234\n"
     ]
    }
   ],
   "source": [
    "from langchain.text_splitter import RecursiveCharacterTextSplitter\n",
    "import PyPDF2\n",
    "import json\n",
    "\n",
    "# Read config file to get API_KEY and ORG_ID values\n",
    "with open(\"../parameters/config.json\") as config:\n",
    "    param = json.load(config)\n",
    "\n",
    "# Read the PDF file\n",
    "pdf_reader = PyPDF2.PdfReader('../data/TroutStocking.pdf')\n",
    "\n",
    "# Extract text from each page and concatenate it\n",
    "full_text = \"\"\n",
    "for page in pdf_reader.pages:\n",
    "    full_text += page.extract_text() + \"\\n\"\n",
    "\n",
    "# Initialize the text splitter\n",
    "text_splitter = RecursiveCharacterTextSplitter(\n",
    "    chunk_size=100,\n",
    "    chunk_overlap=20,\n",
    "    length_function=len\n",
    ")\n",
    "\n",
    "# Create chunks from the extracted text\n",
    "chunks = text_splitter.create_documents([full_text])\n",
    "print(chunks[0])\n",
    "print(len(chunks))"
   ],
   "metadata": {
    "collapsed": false,
    "ExecuteTime": {
     "end_time": "2023-12-03T04:05:16.583973900Z",
     "start_time": "2023-12-03T04:05:15.780020300Z"
    }
   },
   "id": "2fcb516a68125478"
  },
  {
   "cell_type": "code",
   "execution_count": 9,
   "outputs": [
    {
     "name": "stdout",
     "output_type": "stream",
     "text": [
      "Total Tokens:8037\n",
      "Embedding Cost in USD: 0.003215\n",
      "None\n"
     ]
    }
   ],
   "source": [
    "# Calculate embedding cost\n",
    "import tiktoken\n",
    "def cost(texts):\n",
    "    enc = tiktoken.encoding_for_model('text-embedding-ada-002')\n",
    "    total_tokens = sum([len(enc.encode(page.page_content)) for page in texts])\n",
    "    print(f'Total Tokens:{total_tokens}')\n",
    "    print(f'Embedding Cost in USD: {total_tokens / 1000 * 0.0004:.6f}')\n",
    "\n",
    "print(cost(chunks))"
   ],
   "metadata": {
    "collapsed": false,
    "ExecuteTime": {
     "end_time": "2023-12-03T04:06:21.559327800Z",
     "start_time": "2023-12-03T04:06:21.381744800Z"
    }
   },
   "id": "2b5d043daaa2e5fb"
  },
  {
   "cell_type": "code",
   "execution_count": 10,
   "outputs": [
    {
     "name": "stdout",
     "output_type": "stream",
     "text": [
      "[-0.023088439874252496, -0.006411140252561013, -0.009314559980158336, -0.017351060323643527, -0.005577622794516799, 0.01464212777009253, -0.023102333345285844, -0.008168473417139877, -0.023532982518542744, 0.0023546874592592143, -0.008710260114114604, 0.006515330109439533, -0.014586559473894933, 0.019170907588614033, -0.01071070294474335, 0.012933416166194587, -0.008501880400357563, -0.0013197363244826592, 0.0139544754597524, -0.01342658130248839, 0.011224705493619277, 0.04795505032566598, -0.013871123946778637, -0.015836835893791913, 0.010523160643568433, -0.008578286109137285, 0.019434853735923404, -0.043537407099539675, -0.016656461277786725, 0.026867054213364865, 0.0019396651812856177, -0.02590850902019869, 0.003122218380476085, -0.008953369780164484, -0.022421625907817124, -0.04084236801702202, 0.008147636004557753, -0.010259213564936429, 0.020976861382551188, -0.01468380352657941, 0.01748998013281489, 0.012280493808147299, 0.010286997713035227, -0.003363591362646797, -0.0044558465461774855, 0.012884794605513663, -0.0063451537157336695, 0.007161306197631463, -0.01774003467173618, 0.00921037105460245, 0.011516436720350081, 4.390076992971625e-05, 0.0051296067824682145, -0.016086892295358465, 0.025172235149177637, 0.00838379893509096, 0.021963191655138794, 0.0003362288907945085, 0.006466708083097294, -0.026491971473660298, -0.00023030268473089074, -0.01924036749319971, -0.02351909091015466, -0.0011921039127879326, -0.009953590729817541, -0.028325710347018883, -0.03370189876631137, -0.005855461947198204, -0.014975534753310215, -0.006970291925682159, 0.00570612343173578, 0.012211034834884251, -0.012870902997125582, -0.02903420100126377, 0.013648852624633515, 0.009995266486304423, -0.02465823260030171, 0.005028890293348031, 0.02211600307269824, -0.0015220381103239265, 0.00887001733586809, -0.010745432897036191, -0.010196700395867422, 0.03406309176027312, 0.015003318901409013, 0.02936760705315882, 0.013787772433804874, 0.0035407137933773604, -0.030812371578424758, 0.00276450038408728, -0.00046190773685199653, 0.03748051310542373, 0.037313810079476206, 0.007202981954118345, -0.00029932837469103045, 0.005049728171591472, -0.03159032213725532, 0.03903641422308487, 0.0006885203612413899, -0.04181480668122155, -0.003827235434131975, 0.03300729972045456, -0.0036917887598882934, -0.01332239144560987, -0.026811485917167265, -0.016323055225891673, 0.03122913100593884, 0.023602442423128422, 0.00990496916913662, 0.008258771665630315, -0.01579516106862766, -0.003228144688403116, 0.029478743645554015, -0.015392293249501664, -0.004598239257445866, 0.0037195726751564338, -0.011919303608153447, -0.002573485879307317, -0.020643455330656136, -0.004483630694276284, 0.002696777163380768, 0.014433748056335488, -0.0137808256982882, -0.012211034834884251, -0.005765164164369082, 0.014781047579263889, -0.004598239257445866, -0.010099456343182944, 0.006932089071292298, 0.009356236667967852, 0.00973826521186646, -0.004362075861251344, -0.004789253995056487, -0.012141574930298571, -0.005942286827930304, 0.024269256389563794, -0.02703375723931239, 0.006022165438807047, -0.05729044958105171, -0.005921448484025546, -0.0006151534417965613, 0.02749219149199072, -0.003233354041548647, 0.0024085188387469847, 0.00474757777290829, 0.01787895448090754, 0.032229351024269264, -0.005216431663200315, -0.011676193942103567, 0.016656461277786725, -0.005511635792028139, -0.0006451079790830042, -0.0007749110127960334, -0.024713800896499306, -0.005879772727538665, -0.018462416934369147, 0.034229794786220645, -0.0053588243744686955, -0.004129385832815157, -0.02550564120107269, 0.007237711906411185, -0.00817541922133392, 0.01882360806568563, 0.003955736071350957, 0.011085785684447918, 0.013683582576926354, 0.017934522777105135, -0.01037034922600899, 0.023296819588009537, -0.00622707178480575, 0.024963855435420595, 0.00619234183251291, -0.018670796648126188, 0.023574659206352256, -0.014065611120824963, 0.021171349487920144, 0.0013935374731049446, -0.029423175349356418, -0.009696589455379578, 0.005268526591639575, -0.01464212777009253, 0.024380392981958987, -0.0007723062780156033, 0.02417201326820195, -0.029228687243987462, -0.013808609846386998, -0.005737380016270284, -0.02361633589416177, 0.016753706261793837, 0.007786444407579952, 0.011349732763079923, 0.004212737345788921, -0.005074038951931933, 0.0037647215665709945, -0.6134690428356491, -0.01561456550296942, -0.010689864600838593, -0.022393842691040958, 0.00039592090898633067, -0.013579392720047833, 0.03306286987929743, -0.000125678846057488, -0.013475202863169314, -0.005855461947198204, 0.044509845763739196, 0.020699023626853733, 0.004039088049986037, -0.011724815502784489, 0.03181259159675518, -0.02313011656206201, 0.0036570590404261115, 0.010036942242791305, 0.012537495082585262, 0.023005088361278733, -0.012947308705905302, 0.0009281567177405982, 0.021296377688703422, -0.0027888113972583993, 0.011842896968051093, 0.005761691262272062, 0.022213246194060083, -0.000315608010724467, -0.006494492231196092, 0.000639898509522144, -0.008578286109137285, 0.024949963827032514, 0.024130338443037698, 0.0076683629423133495, 0.04220377916666893, 0.011099677292836, -0.02578348081941541, 0.025644561010244052, 0.021643677211631823, 0.04342627423243501, -0.012148520734492612, -0.017253817202281682, 0.03389638500903506, -0.014350396543361725, -0.019768261650463723, 0.0153089417365279, 0.011648409794004768, 0.0016948192970178846, -0.013239039932636107, -0.022352166003231443, 0.006897359118999458, 0.03042339723033211, -0.006692452773000754, -0.006532695085585953, -0.009502102281333252, -0.00845325883967664, 0.006998075608119641, 0.005313675250223477, -0.0028634806549896106, -0.014037826972726165, -0.005730434212076242, -0.008078176099972073, -0.04345405744921117, -0.008189311761044635, -0.028589656494328257, 0.01732327710686736, -0.014322612395262927, -0.012933416166194587, 0.03492439010678691, 0.004657279990079168, 0.022893953631528803, 0.020643455330656136, 0.01103021738825032, 0.00780728275148471, 0.004403752083399541, -0.0004679854610409442, -0.011301111202399, 0.028756361382921047, 0.01593408087779902, -0.002868690008135142, -0.021157457879532063, -0.00010245321665510022, -0.0039522631692539365, 0.013433527106682433, 0.003535504207401171, 0.006230544686902771, -0.014808830796040055, -0.01644808342667495, 0.004605185527301225, -0.009057558705720373, 0.022171571368895835, 0.004601712159542888, -0.0038029246537915136, 0.013176525832244467, 0.007466929498411667, 0.006414613154658033, 0.009967482338205625, 0.00835601478699216, 0.013829448190291756, -0.04645471936684771, -0.012120736586393814, -0.020560103817682373, -0.002451931279113035, 0.009634075354987939, 0.028159007321071357, 0.008293501617923155, -0.032312704399888294, -0.0012936889766783583, -0.003882803264668256, -0.030173340828765553, 0.021365837593289104, 0.002457140632258566, 0.013016768610490982, -0.004358602959154322, -0.010634296304640996, -0.03211821443187407, 0.015183914467067256, -0.020796266748215577, 0.0002268296953223732, -0.002752344993917049, 0.014169800977703484, 0.01810122580305266, 0.019921073068023168, -0.03020112404554172, -0.018059550977888413, 0.023685793936102185, -0.009974428142399665, -0.0018389484593347761, 0.007133522515193981, 0.0002917311976269717, -0.01096075748366464, -0.015128346170869658, 0.05990213901324086, -0.018795824848909466, 0.0068869399470470796, -0.009891076629425902, 0.029173118947789865, -0.03120134592651741, 0.0153089417365279, -0.014183692586091565, 0.002988508390111572, 0.020018316189385012, -0.0020039154998951086, -0.00755028101138543, -0.005004579047346253, -0.008050391951873275, -0.05862407751392245, 0.015558997206771823, -0.0013388378680929188, 0.016809274557991433, 0.00932150671567501, 0.003422632095280099, 0.0014230578394215953, -0.027881167702728638, -0.014822723335750772, 0.0038029246537915136, 0.011787329603176128, -0.00960629120688914, 0.01748998013281489, -0.004278724348277581, -0.005487325011687678, 0.004761469846957689, -0.03617466838932916, -0.016614786452622477, -0.0027002500654777885, 0.005560257818370378, 0.020254480982563484, 0.018920851187047477, 0.00758501096367827, -0.007328009689240306, 0.015406185789212379, -0.023838607216306894, 0.007918417946895956, 0.02529726148731565, -0.013023714414685025, -0.01089129757907896, -0.0007540730763449281, 0.007230766102217143, -0.009995266486304423, 0.0017729615732614457, -0.0005092272502848596, -0.009245101006895289, -0.02432482468576139, -0.009515993889721335, 0.007015440584266061, 0.015475645693798059, 0.00897420719274661, -0.0016765860953472094, -0.012530549278391222, 0.011488652572251283, 0.0020681658185045994, 0.012648630743657826, -0.0015758693733963678, -0.0164897582518392, 0.012023492533709336, -0.003288921872084928, -0.023630227502549853, 0.003726518712181134, 0.0048170376774939695, 0.017378843540419693, 0.04150918012081213, 0.01001610483020918, 0.0032993408112066483, 0.0038098704579855552, 0.012412467813124618, -0.008779720018700284, 0.0005613220623087907, -0.03523001666719633, 0.027700571205747763, 0.018142902490862176, 0.02745051666682647, -0.024963855435420595, -0.01854576844734291, 0.006008273364757647, 0.01096075748366464, 0.01510056202277086, -0.0009377074313380633, -0.020851835044413174, 0.011634518185616685, 0.0010167179331058798, 0.014989426361698298, -0.019782153258851805, 0.012752820600536344, 0.015239481831942221, -0.02192151496732928, -0.004591293453251825, 0.01562845618003487, 0.01980993833827324, 0.009557669646208217, 0.01982382994666132, -0.011252488710395444, 0.02135194598490102, 0.01690651767935328, 0.005997854658466585, 0.008564394500749202, -0.0168370577747676, 0.004375967935300743, -0.028061762337064245, 0.03867522122912312, 0.01868468825651427, 0.010627350500446954, -0.0012919524092145187, 0.03342405914796864, 0.0036223290881332716, -0.00702585975621844, -0.00789063473011979, 0.010571783135571989, 0.039786579702494, -8.22664638991024e-05, -0.015725701164041983, 0.0022175043339670224, 0.008682475966015806, -0.0313958321692411, 0.013412688762777675, -0.0054630137656859, -0.03400752160143025, -0.009439588180941615, -0.001868468825651427, 0.02961766159208011, 0.014336504934973642, -0.01328766149331703, 0.0026394726489653185, 0.00626180173709859, -0.013739149941801318, 0.016878734462577115, -0.00768920082055679, -0.019462638815344834, -0.013558554376143077, -0.025061098556782443, -0.023921958729280657, 0.008821395775187165, -0.013690528381120396, 0.013975313803657158, -0.013773879894094159, -0.009759103555771217, -0.006206233906562309, -0.009335398324063094, -0.022768925430745525, -0.003632748027254992, -0.008689421770209847, -0.034118658193825445, -0.03114577763031981, 0.012190196490979494, 0.021060214758170215, -0.00558456859871084, 0.034452064245720504, -0.0054630137656859, -0.001000221298899044, -0.013961421263946443, 0.012495819326098381, 0.01899031109163316, 0.022657788838350332, -0.00015302864856350088, 0.031117994413543647, 0.007737822846899029, -0.0030718601359159933, 0.009599345402695098, -0.014669911918191328, -0.010557890595861274, -0.0007657944119606958, -0.012370792056637736, 0.022546654108600402, 0.010974650023375356, 0.005171283004616412, 0.04673255898519043, -0.010009158094692506, -0.013405742958583633, 0.004282197250374601, -0.007418307472069427, 0.01113440724512884, 0.0099466449256235, -0.0052858915677859945, -0.018003982681690817, 0.018865284753495144, -0.00493859251051891, 0.019921073068023168, 0.023921958729280657, 0.013843339798679839, 0.03125691236006974, -0.01113440724512884, -0.014669911918191328, -0.010460647474499428, -0.040675664991074494, 0.006782750555829876, 0.08040667826001617, 0.00640072154626995, 0.056651420694037766, 0.013822502386097715, 0.03548006934347236, -0.002266126360309262, -0.009224262662990531, -0.009939698190106826, 0.017239923731248333, 0.0005161732291018947, 0.0019570301574320377, 0.010307836056939985, -0.01833738873358587, 0.0018024820559934256, 0.01912923090080452, -0.010425917522206587, -0.012176304882591412, -0.02581126589883684, 0.0059353405580749455, -0.002255707188356883, -0.013669690037215639, -0.002481451645429686, -0.0005422206351138602, 0.02765889638058351, 0.00022661262438939325, 0.018795824848909466, 0.01669813796559624, 0.006748020603537035, 0.019740478433687557, -0.011453922619958442, -0.015433969937311177, -0.022518870891824236, 0.020782375139827496, 0.03303508666252126, 0.019865504771825568, 0.012211034834884251, 0.011384462715372762, -0.033201789688468784, 0.005720015040123864, -0.002554384452112387, 0.030951291387596117, -0.010280051908841186, -0.006393775276414593, -0.00558109569661382, 0.02351909091015466, 0.014975534753310215, 0.020240587511530135, 0.011474760032540568, 0.013857232338390554, -0.007925363751089997, 0.02731159685765511, 0.02842295346838073, 0.003474727023719359, 0.01209989917381169, 0.02222713966509343, 0.019865504771825568, 0.028589656494328257, 0.01043286332640063, 0.00043412379248002384, -0.0605689548423215, -0.02178259515815792, -0.02247719420401472, 0.016142458728910798, -0.0032507190176950668, -0.0014708114074089215, -0.020323940887149165, -0.02167146042840799, -0.014364288151749808, -0.022143786289474405, -0.03370189876631137, 0.0039279523889134745, -0.013134850075757586, -0.006820953410219736, 0.0014794938954821315, 0.02856187327755209, 0.00966880530728078, 0.018670796648126188, 0.00029238239587399536, -0.012301332152052057, -0.015058886266283978, -0.0005400500130955578, -0.03245162420905965, 0.016434189955641602, -0.01485050748384957, -0.005872826923344623, 0.01388501555516672, 0.01743441183661729, -0.026283591759903257, 0.0026134254175763467, 0.011078839880253875, 0.014197585125802282, 0.006008273364757647, -0.007626687185826468, -0.014586559473894933, -0.009647967894698654, -0.008154581808751794, 0.0153089417365279, -0.0011304583871665362, -0.01875414816109995, 0.008258771665630315, 0.03825846180160904, 0.005101823100030732, -0.01569791608462055, -0.015086670414382776, -0.011544219937126248, 0.0005456935954185455, -0.004105074586813379, -0.0012910841836902636, -0.038814141038294475, 0.01790673956032897, -0.004007830999790217, -0.008272663274018398, 0.007973986243093553, 0.011676193942103567, -0.0037473565904245745, 0.0099188607775247, -0.00042327071149234356, -0.026728134404193502, -0.021504757402460464, -0.0030527587087210628, 0.008015661999580434, 0.002865217106038121, 0.01736495193203161, 0.02053231873826094, -0.03361854911598287, 0.012481927717710298, -0.01694819250451753, -0.02903420100126377, 0.012481927717710298, 0.013336283053997953, -0.012843118849026782, -0.0017764345917737957, -0.010821838605815912, -0.010787108653523073, -0.0195459903283186, -0.01405866531663092, -0.023282927979621452, 0.014711587674678209, -0.029534310079106348, -0.02731159685765511, 0.004264832274228181, 0.010314781861134025, 0.021101889583334466, -0.029173118947789865, -0.0006021297096867462, -0.01815679409925026, -0.010425917522206587, -0.03531336631752483, -0.010182807856156707, 0.037619432914595095, -0.00893947724045377, 0.00429261642232698, -0.007605849307583027, 0.007598903037727669, 0.00851577294006828, -0.009821616724840223, -0.010870460166496836, 0.0037299918471088126, 0.02604742882937005, 0.022241031273481513, 0.02400531024225442, -0.0060325846107594245, 0.006748020603537035, -0.0018076915255542858, -0.0009220789644478182, 0.011071893144737202, -0.0003894090429314232, -0.006702871479291816, -0.033840818575482726, 0.0030649140988912938, 0.0021723554425524616, 0.017073220705300807, 0.016781489478570003, -0.001606258081652603, 0.01799009107330273, 0.01650364986022728, -0.011127461440934799, -0.008404637278995717, -0.0032246715534754366, -0.004851767629786809, -0.01690651767935328, -0.020198912686365887, -0.005216431663200315, 0.014364288151749808, -0.01774003467173618, -0.03309065309607359, 0.023532982518542744, 0.013551608571949035, 0.0009863293412649737, -0.019115339292416433, 0.028020087511899997, -0.018865284753495144, 0.010168916247768623, -0.00015292010582105284, 0.0025613304891370864, 0.010655134648545754, -0.00026590081889223767, -0.018240145612224024, -0.01231522376044014, -0.0025752223303558276, -0.021046321287136866, 0.01475326343116509, -0.01774003467173618, 0.010856568558108752, -0.028284033659209368, 0.00894642304464781, -0.012426359421512701, -0.002927730973599102, 0.016809274557991433, -0.027672787988971596, -0.01593408087779902, -0.03559120593586755, -0.03211821443187407, 0.010939920071082515, 0.004112020856668738, 0.02247719420401472, -0.0011695295834959814, 0.014767155039553174, -0.009731319407672417, -0.004900389656129049, -0.003632748027254992, -0.040092202537612885, 0.015836835893791913, 0.011474760032540568, 0.05676255728643296, 0.026867054213364865, 0.0033531721906944188, -0.00429261642232698, 0.01578126946023958, 0.005622771453100701, -0.0058276777990994046, -0.004497522768325683, -0.008071229364455399, 0.009731319407672417, -0.02000442458099693, 0.025033315340006277, 0.019254259101587796, -0.008592178648848, -0.015475645693798059, 0.002451931279113035, -0.013586338524241875, -0.007494713180849149, -0.00939096662026069, -0.017476088524426805, -0.01141224686347156, 0.005049728171591472, -0.01203043926922601, 0.005355351472371675, -0.00966880530728078, 0.004764942749054709, -0.008286554882406481, 0.003308023299279858, -0.020573995426070454, 0.01564234965106822, 0.016461975035063033, 0.016600894844234392, -0.01001610483020918, 0.014322612395262927, 0.0029919812922085927, -0.016114675512134632, -0.015809052677015746, 0.012009600925321252, -0.012870902997125582, 0.010731540357325474, -0.011453922619958442, 0.00953683130230346, 0.006216653078514688, -0.017462195053393456, -0.007425253741924785, 0.02472769250488739, -0.038536301419951756, -0.018392957029783465, -0.020337832495537247, 0.028645224790525853, 0.007612795111777069, 0.00345388891264526, -0.01797619946491465, -0.030784586499003327, -0.005265053689542554, 0.00780728275148471, 0.003148265844695715, 0.010217537808449547, 0.00208726724569953, -0.01882360806568563, 0.005292837371980036, -0.012322170495956812, -0.02550564120107269, -0.001090518965312836, 0.0020421183542849693, -0.025088883636203874, 0.00763363299002051, -0.03064566855247723, -0.007925363751089997, 0.020087776093970694, 0.02135194598490102, 0.006484073059243714, 0.01209989917381169, 0.02128248608031534, -0.027394948370628874, 0.013273769884928947, -0.0033305978614024674, 0.0014699431818846662, -0.012086006634100975, 0.02629748336829134, -0.005501217085737077, -0.01701765240910321, 0.011294164466882325, 0.016198027025108395, -0.004136331637009199, -0.02476936733005164, -0.020171127606944457, 0.018323497125197787, -0.0313124825189126, 0.0033114964342075373, 0.042231562383445095, 9.154585702023788e-05, 0.016795381086958085, -0.013822502386097715, -0.04117577406891707, 0.04170367008882635, -0.003723045810084113, 0.01043286332640063, 0.0003527255832090089, -0.01564234965106822, 0.0535674054007822, -0.013197363244826593, 0.03823067858483287, 0.011988762581416495, -0.017420520228229208, -0.025866832332389175, 0.03311843631284976, 0.020240587511530135, -0.0015307204819818073, 0.005206012491247936, -0.022366057611619528, -0.006456289376806232, -0.023908067120892575, 0.026561431378245976, -0.022602222404798, -0.012419413617318659, -0.0012962936532511238, 0.021893731750553112, 0.014267045030387962, 0.03242383726699296, -0.016725921182372407, -0.02154643222762471, 0.0007571119238874858, -0.03934203705820375, -0.0313124825189126, -0.0027089325535509987, -0.007703092894606189, 0.02247719420401472, -0.017559440037400568, -0.011287218662688284, -0.02497774704380868, 0.018392957029783465, -0.002521390950868057, -0.015975755702963272, 0.01621191863349648, 0.005605406476954281, 0.005376189350615116, 0.014239260882289164, 0.015600672963258705, 0.03428536121977298, -0.006268747541292631, 0.007987877851481636, -0.006081206171440348, 0.01774003467173618, 0.024088661755228186, 0.006220125980611708, 0.008369907326702878, -0.004702429114324387, 0.0031760497599638555, -0.0015176968662873214, 0.011391408519566805, 0.009613237942405815, 0.005025417391251011, 0.018212362395447858, -0.016781489478570003, -0.018795824848909466, -0.0240747701468401, -0.015253374371652936, -0.010307836056939985, 0.011502544180639366, 0.0005691363248577456, -0.027589436475997833, -0.027714464676781108, 0.006952926949535739, 0.021365837593289104, 0.0004610394822239091, 0.00038875787378823176, -0.00964102115918198, 0.004004358097693197, 0.032229351024269264, -0.009800779312258099, -0.005181701710907475, 0.011266381250106159, -0.011037163192444362, 0.007404415398020028, 0.017462195053393456, -0.004726739894664848, 0.0005921448833271534, 0.040342255213888914, -0.008731097526696728, 0.005855461947198204, -0.005348405202516318, -0.061013497486611744, -0.011148299784839557, -0.008189311761044635, -9.82747794562092e-05, 0.0008066020593386513, -0.021254701000893907, 0.009974428142399665, -0.022046543168112557, -0.021754811941381753, 0.007216874028167744, -0.00036531517345286406, -0.017781711359545694, 0.03620245160610532, -0.015503428910574225, -0.046927045227914126, -0.008224041713337476, -0.01975437004207564, -0.025658452618632133, 0.00029715775267272795, -0.01099548743595748, -0.017934522777105135, -0.028978632705066173, -0.021199134567341578, 0.009689643651185536, -0.005855461947198204, 0.0039626818755449985, -0.03520222972512964, -1.1314351263294072e-05, -0.02246330259562664, 0.013412688762777675, 0.19982197635046944, 0.002413728424723174, 0.007564173085434829, 0.025686237698053564, 0.002556120903160897, -0.006046476219147508, 0.005386608056906178, 0.030590100256279635, -0.011148299784839557, 0.010085563803472229, -0.004542671426909586, -0.03609131501371013, -0.025088883636203874, 0.0058762998254416445, 0.0028200682146235605, 0.0029989273292332923, -0.018601336743540507, -0.018740256552711866, -0.023532982518542744, -0.0011000696789103012, 0.00789063473011979, -0.0004805750512847994, -0.00827960907821244, -0.03536893647636769, 0.021476972323039033, -0.024991638652196762, 0.00551510869412516, 0.021907623358941197, -0.019907181459635083, 0.020587887034458536, -0.0003859360535229056, -0.008550502892361119, -0.009703535259573619, -0.006786223457926896, -0.02206043477650064, -0.008043446147679233, -0.003063177647842783, -0.001172134260068747, 0.012474981913516257, 0.005588041500807861, 0.001344915563178034, -0.02128248608031534, 0.010939920071082515, 0.0015506902511163221, -0.023282927979621452, 0.013898908094877436, -0.021268592609281992, -0.0068904128491441, -0.0013457837887022894, -0.008751935870601486, -0.04120355728569324, -0.006723709357535257, -0.011634518185616685, 0.051983721066344905, 0.013120957536046871, -0.003261137956816787, 0.0022487613841628415, -0.008647746013722965, -0.01854576844734291, 0.00827960907821244, -0.010523160643568433, 0.036619211033619405, 0.012155466538686654, -0.005845042775245825, -0.012655577479174498, 0.006855683362512576, -0.009870239216843778, 0.014725479283066292, -0.012009600925321252, -0.015836835893791913, 0.01578126946023958, -0.013600230132629959, 0.0018372118918709367, 0.002431093400869594, -0.012322170495956812, -0.03459098405489186, 0.02465823260030171, 0.03461876727166803, 0.0291453357310137, 0.0003496867356664512, -0.020712915235241814, -0.018254037220612106, 0.01517002192735654, -0.017448303445005375, -0.01915701598022595, 0.0018233199342368666, 0.035424502909920025, 0.007848958042310275, -0.021935408438362627, -0.005483852109590657, 0.023505199301766578, 0.01089129757907896, -0.02668645771638399, -0.008550502892361119, 0.011988762581416495, 0.006647303648755536, -0.017781711359545694, 0.025074990165170525, -0.021574217307046145, 0.011044109927961036, -0.01610078390374655, 0.04028668878033658, -0.016725921182372407, -0.02970101496769914, -0.034368714595392, 0.011884573655860608, 0.004066871732423519, 0.02557510110565837, 0.028284033659209368, -0.007251603980460584, 0.0029832988041353825, -0.015225590223554138, 0.013273769884928947, 0.0037091537360347134, -0.005403973033052598, -0.011196921345520479, 0.049483168226550946, -0.011106623097030041, 0.012058222486002175, -0.009592399598501057, -0.02800619404086665, -0.014530992109019968, 0.0027592907981110904, -0.008119851856458955, 0.011815113751274926, -0.037841702374094954, -0.0061645581500754274, -0.01933761061456156, -0.0027210879437212297, -0.04951095144332711, 0.0010297416652156948, -0.011905411068442732, 0.0004080763864680583, -0.027381056762240792, -0.009252046811089331, 0.008474096252258765, -0.006240963858855149, -0.011127461440934799, -0.00570265052963876, -0.0005734775688943505, 0.009557669646208217, 0.019393178910759156, 0.016017432390772787, -0.022379951082652876, 0.03278503026095471, -0.025616777793467885, 0.03389638500903506, -0.0191431225091926, -0.033840818575482726, -0.017656683158762416, -0.004327345908958504, -0.016267486929694076, -0.0027332435667221182, 0.02093518655738694, 0.03170145500435999, 0.003795978616766814, -0.014586559473894933, -0.03034004385471308, 0.009245101006895289, 0.03472990386406322, -0.03842516482755656, -0.03336849271441631, 0.032312704399888294, -0.007730876577043672, -0.011176083001615721, 0.0045044685725197245, -0.1779282501878521, 0.012217980639078294, 0.013301553101705112, 0.0022834911036250234, 0.008960315584358527, 0.01625359532130599, 0.029173118947789865, -0.005751272090319683, -0.035424502909920025, -0.022282706098645765, -0.011099677292836, 0.001485571706982576, -0.012495819326098381, -0.0035111934270607094, -0.005195593784956874, -0.013648852624633515, -0.009779940968353341, 0.01589240418998951, 0.0011365360822516515, -0.004695483310130345, 0.008043446147679233, -0.02121302617572966, 0.021935408438362627, -0.0014977270971528068, -0.010085563803472229, 0.017795602967933775, -0.00984245506874498, 0.02046285883367526, -0.009029775488944207, 0.0007215137460703905, -0.020365615712313413, -0.0025891144044052268, 0.0016470657290305584, 0.0033132328852560474, -0.01339185135019555, -0.01422536927390108, -0.0008361224256553021, 0.0003800753857150217, -0.016461975035063033, 0.021893731750553112, 0.011037163192444362, 0.025894617411810605, 0.006122881927927229, 0.01875414816109995, -0.027394948370628874, 0.02975658140125147, 0.017726143063348094, 0.003980046851691419, 0.02021280429475397, -0.04959430481894614, 0.022074326384888723, -0.015114454562481575, 0.01199570931693317, 0.007647525064069909, 0.012155466538686654, 0.024283149860597143, 0.009300668371770253, 0.019587667016128112, -0.03417422462737778, -0.037619432914595095, -0.01589240418998951, -0.005004579047346253, 0.001486439932506831, -0.020643455330656136, -0.035618989152643714, -0.013864178142584596, -0.03089572309139852, 0.006303477493585471, -0.02093518655738694, -0.0020716387206016203, 0.0007341033654180779, -0.021365837593289104, -0.007946202094994755, -0.007328009689240306, 0.004289143054568643, 7.414020735872684e-06, -0.025825157507224927, 0.017337168715255445, 0.011981816777222454, -0.003259401505768277, -0.005535946572368601, 0.06356961675995804, -0.03120134592651741, -0.0063555724220247314, 0.01968491013748996, -0.016017432390772787, 0.00866163855343368, -0.005577622794516799, 0.02981214969744907, 0.00636599159397711, 0.021935408438362627, -0.004823983947349327, 0.02601964374994862, -0.04464876557291056, 0.007119630441144582, 0.021157457879532063, 0.004830929751543369, -0.011940141020735573, 0.01980993833827324, -0.0001821149312218564, -0.013850285602873881, -0.010002212290498465, -0.029423175349356418, 0.026311374976679423, 0.01060651308786483, 0.006834845018607819, 0.002134152588162601, 0.03311843631284976, 0.038897494413913505, -0.004438481570031065, -0.006272220909050968, -0.021699243645184156, 0.012176304882591412, 0.004674644966225589, 0.013044551827267149, 0.027464408275214555, 0.0007050170536558901, -0.0156562412594563, 0.033201789688468784, -0.023116224953673926, 0.036535857658000374, 0.0038237625320349544, 0.004278724348277581, 0.0030770694890615243, -0.011669248137909526, -0.016531434939648714, -0.06984878021357382, 0.004514887744472103, -0.002688094675307558, 0.025213909974341885, -0.013523824423850236, 0.015461753154087344, -0.010168916247768623, 0.021754811941381753, 0.0028704266920143106, 0.012780604748635144, 0.029089767434816102, -0.009481263937428496, -0.011940141020735573, 0.003861965386424815, 0.046288016340900184, 0.016281378538082158, -0.00549774371797874, 0.002646418685990018, 0.04634358277445252, 0.03122913100593884, 0.01043286332640063, -0.004587820551154804, -0.031117994413543647, -0.03020112404554172, -0.013669690037215639, -0.006213179710756351, -0.031117994413543647, 0.03156253892047916, 0.019865504771825568, 0.012440251961223416, -0.01671202957398432, -0.02618634863854141, -0.004598239257445866, -0.006074260367246306, -0.017420520228229208, 0.006334734543781291, -0.0405645283986793, -0.002255707188356883, 0.008744990066407445, -0.02215767976050775, 0.011717869698590448, 0.002151517564309021, 0.030673451769253398, -0.027783922718721526, 0.009849400872939021, -0.021574217307046145, -0.007946202094994755, 0.02546396637590844, 0.018003982681690817, 0.003290658555964096, 0.0038063975558885344, -0.024908287139223, -0.025950183845362938, -0.0095715612545963, 0.0029381499127208222, 0.014176746781897525, 0.012231872247466377, 0.02581126589883684, -0.032229351024269264, 0.010273106104647144, -0.00841158308318976, 0.015072778805994693, -0.010412024982495872, -0.009404858228648774, 0.02682537752555535, 0.028645224790525853, -0.00026763732814841256, -0.00023290741951132086, 0.02807565394545233, 0.02014334439016829, -0.026672566107995906, 0.030478963663884442, 0.0021966664557235816, 0.028978632705066173, -0.028534090060775924, -0.009189532710697692, 0.013697474185314437, -0.0010627350500446954, 0.02040729240012293, -0.01799009107330273, 0.013898908094877436, -0.0298399347768705, -0.012745874796342304, -0.03120134592651741, 0.03586904555421027, 0.0036535859054984327, -0.009363182472161892, 0.02339406457201665, 0.02478325893843972, -0.010495377426792268, -0.003702207699010014, 0.043315137640039816, 0.023157899778838177, -0.021615892132210393, 0.006463235181000273, 0.017517763349591053, -0.008786665822894326, -0.008196257565238677, 0.0077517144552871125, 0.00904366709733229, -0.024144230051425783, -0.008300447422117196, -0.1002999606606821, 0.02970101496769914, 0.009189532710697692, -0.012773658944441102, -0.013690528381120396, 0.008397690543479042, 0.020129452781780206, -0.026867054213364865, -0.006168031052172448, -0.004688537040274988, -0.0013674900088853144, 0.033840818575482726, -0.027339380074431277, 0.003334070763499488, -0.002641209332844487, -0.015809052677015746, -0.002056010428334369, -0.016670354748820074, 0.021588108915434227, 0.015684024476232468, -0.01186373531195585, 0.011731761306978531, -0.004535725622715544, 0.00777255279919187, -0.019726584962654208, 0.02042118400851101, -0.010078617999278186, 0.02062956372226805, -0.026880945821752947, 0.008494934596163522, 0.018198470787059773, -0.03328513933879729, 0.011697032286008324, 0.03728602686270004, 0.0006663800282962372, -0.016725921182372407, -0.003886276399595935, 0.013398797154389592, 0.02757554486760975, -0.01797619946491465, -0.01096075748366464, -0.0018458943799441467, 0.007334955959095664, -0.023324604667430967, -0.029589878375303944, 0.011259435445912118, 0.024380392981958987, -0.01517002192735654, 0.016295272009115506, 0.0020369090011394383, 0.017351060323643527, 0.02699208241414814, 0.022963413536114485, -0.035424502909920025, 0.01335712139790271, -0.019921073068023168, 0.0018146375625789856, -0.004014776803984259, -0.011606734037517887, -0.0037786136406203936, 0.009731319407672417, 0.02629748336829134, 0.030923506308174687, 0.0036917887598882934, 0.03992549951166536, 0.015850727502179994, 0.03184037481353135, 0.013120957536046871, 0.003667477979547832, -0.02365801071932602, -0.03745272988864757, -0.016336946834279754, 0.010502323230986309, 0.021977083263526875, -0.015711809555653898, 0.0016913463949208638, 0.006598681622413297, -0.005150444660711655, -0.007244658176266543, 0.019671018529101875, 0.03197929462270271, -0.01255138762229598, -0.050761229725869356, 0.037813919157318784, 0.00777255279919187, 0.020018316189385012, 0.001031478116264205, 0.0011374044241912358, -0.016614786452622477, 0.003921006119058117, -0.0396754431100988, 0.003667477979547832, -0.0008708523779481423, -0.007279388128559383, -0.013120957536046871, 0.00835601478699216, -0.017573331645788653, -0.008543556156844444, 0.014781047579263889, 0.028061762337064245, -0.007286333932753425, 0.020837943436025092, -0.017392737011453042, -0.041314693878088435, -0.018712473335935703, 0.017670574767150497, -0.010703756209226676, -0.043815246717882395, 0.006431978130804454, 0.006171503954269469, 0.015989647311351354, -0.007147414123582064, -0.024741584113275473, 0.007703092894606189, -0.02697818894311479, 0.004771889018910067, -0.0008630381153991874, -0.008571340304943244, -0.029395390269934988, 0.044426492388120166, -0.008161527612945836, 0.023088439874252496, -0.013120957536046871, 0.015517321450284942, 0.012780604748635144, -0.014267045030387962, 0.004362075861251344, -0.024088661755228186, -0.02775613950194536, 0.012058222486002175, -0.023644119110937938, -0.00893947724045377, -0.05145582504643563, -0.024824935626249236, 0.012023492533709336, 0.0059492326321243455, 0.004299562226521021, 0.028617441573749687, -0.022532762500212317, 0.08529664362191836, 0.02108799797494638, -0.011509489984833407, 0.01510056202277086, -0.014010043755949999, 0.040397825372731774, 0.014530992109019968, 0.02108799797494638, -0.02476936733005164, -0.011606734037517887, -0.009592399598501057, -0.036424724790895716, 0.003993938925740818, -0.04206485935749757, -0.030590100256279635, -2.0186756393976854e-05, 0.021699243645184156, 0.010870460166496836, -0.00490386255822607, -0.0028443792277946804, 0.0006516198451379117, -0.03120134592651741, 0.0306178834730558, 0.002972879865013662, -0.03548006934347236, -0.010759324505424273, -0.012356900448249653, -0.025491749592684607, -0.007105738367095183, -0.04670477576841427, 0.009696589455379578, 0.015225590223554138, 0.007626687185826468, -0.01922647588481163, -0.005188647515101516, -0.011495598376445324, -0.00031886394375192076, -0.021476972323039033, 0.01855966005573099, 0.003997411827837838, -0.002285227787504192, -0.006202761004465289, -0.026089103654534297, -0.003139583356622505, 0.006070787465149286, 0.014447640596046205, -0.023018979969666814, 0.0008326494653506168, 0.012183250686785453]\n"
     ]
    }
   ],
   "source": [
    "# Create embeddings\n",
    "from langchain.embeddings import  OpenAIEmbeddings\n",
    "# Read config file to get API_KEY and ORG_ID values\n",
    "with open(\"../parameters/config.json\") as config:\n",
    "    param = json.load(config)\n",
    "api_key = param['GPT']['API']\n",
    "\n",
    "embeddings = OpenAIEmbeddings(api_key = api_key)\n",
    "vector = embeddings.embed_query(chunks[0].page_content)\n",
    "print(vector)"
   ],
   "metadata": {
    "collapsed": false,
    "ExecuteTime": {
     "end_time": "2023-12-03T04:06:25.654448500Z",
     "start_time": "2023-12-03T04:06:24.403758400Z"
    }
   },
   "id": "13cea6ba8059613c"
  },
  {
   "cell_type": "code",
   "execution_count": null,
   "outputs": [],
   "source": [],
   "metadata": {
    "collapsed": false,
    "ExecuteTime": {
     "start_time": "2023-12-03T04:03:35.918433600Z"
    }
   },
   "id": "8ffc81e93852e78a"
  },
  {
   "cell_type": "markdown",
   "source": [
    "## Inserting the Embeddings into a Pinecone Index\n"
   ],
   "metadata": {
    "collapsed": false
   },
   "id": "b31389147f5398a3"
  },
  {
   "cell_type": "code",
   "execution_count": 11,
   "outputs": [
    {
     "name": "stdout",
     "output_type": "stream",
     "text": [
      "9d3f4ffd-cc84-49ce-a06a-1bf3598f34cb\n"
     ]
    },
    {
     "data": {
      "text/plain": "VersionResponse(server='2.0.11', client='2.2.4')"
     },
     "execution_count": 11,
     "metadata": {},
     "output_type": "execute_result"
    }
   ],
   "source": [
    "import json\n",
    "import pinecone\n",
    "from langchain.vectorstores import Pinecone\n",
    "# Read config file to get API_KEY and ORG_ID values\n",
    "with open(\"../parameters/config.json\") as config:\n",
    "    param = json.load(config)\n",
    "\n",
    "api_key = param['PINECONE']['API']\n",
    "env = param['PINECONE']['ENV']\n",
    "print(api_key) \n",
    "pinecone.init(api_key = api_key, environment= env)\n",
    "\n",
    "pinecone.info.version()"
   ],
   "metadata": {
    "collapsed": false,
    "ExecuteTime": {
     "end_time": "2023-12-03T04:06:43.494079200Z",
     "start_time": "2023-12-03T04:06:43.151555200Z"
    }
   },
   "id": "2093e23ce5f84e07"
  },
  {
   "cell_type": "code",
   "execution_count": 16,
   "outputs": [
    {
     "name": "stdout",
     "output_type": "stream",
     "text": [
      "['fishing']\n",
      "Indexes Deleted\n"
     ]
    }
   ],
   "source": [
    "# deleting all indexes\n",
    "indexes = pinecone.list_indexes()\n",
    "print(indexes)\n",
    "\n",
    "for i in indexes:\n",
    "    pinecone.delete_index(i)\n",
    "    print(\"Indexes Deleted\")\n"
   ],
   "metadata": {
    "collapsed": false,
    "ExecuteTime": {
     "end_time": "2023-12-03T04:10:02.383077600Z",
     "start_time": "2023-12-03T04:09:46.495947500Z"
    }
   },
   "id": "c560637bdbdd49e"
  },
  {
   "cell_type": "code",
   "execution_count": 17,
   "outputs": [
    {
     "name": "stdout",
     "output_type": "stream",
     "text": [
      "Create index fishing\n",
      "Done\n"
     ]
    },
    {
     "data": {
      "text/plain": "['fishing']"
     },
     "execution_count": 17,
     "metadata": {},
     "output_type": "execute_result"
    }
   ],
   "source": [
    "# Create Pinecone index\n",
    "index_name = \"fishing\"\n",
    "if index_name not in pinecone.list_indexes():\n",
    "    print(f'Create index {index_name}')\n",
    "    pinecone.create_index(index_name,dimension=1536, metric='cosine', pods=1, pod_type='p1.x2')\n",
    "    print('Done')\n",
    "else:\n",
    "    print(\"Index exists\")\n",
    "pinecone.list_indexes()"
   ],
   "metadata": {
    "collapsed": false,
    "ExecuteTime": {
     "end_time": "2023-12-03T04:10:18.340400500Z",
     "start_time": "2023-12-03T04:10:02.382080200Z"
    }
   },
   "id": "383eba34cc6c98a9"
  },
  {
   "cell_type": "code",
   "execution_count": 18,
   "outputs": [
    {
     "name": "stdout",
     "output_type": "stream",
     "text": [
      "page_content='Water Body County Stocking Schedule\\nBoggs Creek Lumpkin 2023-04-05\\nBoggs Creek Lumpkin 2023-04-12'\n",
      "234\n"
     ]
    }
   ],
   "source": [
    "from langchain.text_splitter import RecursiveCharacterTextSplitter\n",
    "import PyPDF2\n",
    "import json\n",
    "\n",
    "# Read config file to get API_KEY and ORG_ID values\n",
    "with open(\"../parameters/config.json\") as config:\n",
    "    param = json.load(config)\n",
    "\n",
    "# Read the PDF file\n",
    "pdf_reader = PyPDF2.PdfReader('../data/TroutStocking.pdf')\n",
    "\n",
    "# Extract text from each page and concatenate it\n",
    "full_text = \"\"\n",
    "for page in pdf_reader.pages:\n",
    "    full_text += page.extract_text() + \"\\n\"\n",
    "\n",
    "# Initialize the text splitter\n",
    "text_splitter = RecursiveCharacterTextSplitter(\n",
    "    chunk_size=100,\n",
    "    chunk_overlap=20,\n",
    "    length_function=len\n",
    ")\n",
    "\n",
    "# Create chunks from the extracted text\n",
    "chunks = text_splitter.create_documents([full_text])\n",
    "print(chunks[0])\n",
    "print(len(chunks))\n",
    "\n",
    "# Create embeddings\n",
    "from langchain.embeddings import  OpenAIEmbeddings\n",
    "# Read config file to get API_KEY and ORG_ID values\n",
    "with open(\"../parameters/config.json\") as config:\n",
    "    param = json.load(config)\n",
    "api_key = param['GPT']['API']\n",
    "\n",
    "embeddings = OpenAIEmbeddings(api_key = api_key)\n",
    "vector = embeddings.embed_query(chunks[0].page_content)\n"
   ],
   "metadata": {
    "collapsed": false,
    "ExecuteTime": {
     "end_time": "2023-12-03T04:10:18.839699600Z",
     "start_time": "2023-12-03T04:10:18.343398300Z"
    }
   },
   "id": "21dfc7c1e131d499"
  },
  {
   "cell_type": "code",
   "execution_count": 19,
   "outputs": [
    {
     "data": {
      "text/plain": "<langchain.vectorstores.pinecone.Pinecone at 0x2acfed487f0>"
     },
     "execution_count": 19,
     "metadata": {},
     "output_type": "execute_result"
    }
   ],
   "source": [
    "Pinecone.from_documents(chunks, embeddings,index_name = index_name)"
   ],
   "metadata": {
    "collapsed": false,
    "ExecuteTime": {
     "end_time": "2023-12-03T04:10:34.528099Z",
     "start_time": "2023-12-03T04:10:18.827890700Z"
    }
   },
   "id": "9f7719f30359ab71"
  },
  {
   "cell_type": "code",
   "execution_count": 14,
   "outputs": [
    {
     "ename": "ValueError",
     "evalue": "Index 'langchain-pinecone' not found in your Pinecone project. Did you mean one of the following indexes: fishing",
     "output_type": "error",
     "traceback": [
      "\u001B[1;31m---------------------------------------------------------------------------\u001B[0m",
      "\u001B[1;31mValueError\u001B[0m                                Traceback (most recent call last)",
      "Cell \u001B[1;32mIn[14], line 2\u001B[0m\n\u001B[0;32m      1\u001B[0m \u001B[38;5;66;03m## Asking Questions ( Similarity Search)\u001B[39;00m\n\u001B[1;32m----> 2\u001B[0m vector_store \u001B[38;5;241m=\u001B[39m \u001B[43mPinecone\u001B[49m\u001B[38;5;241;43m.\u001B[39;49m\u001B[43mfrom_documents\u001B[49m\u001B[43m(\u001B[49m\u001B[43mchunks\u001B[49m\u001B[43m,\u001B[49m\u001B[43membeddings\u001B[49m\u001B[43m,\u001B[49m\u001B[43mindex_name\u001B[49m\u001B[38;5;241;43m=\u001B[39;49m\u001B[43mindex_name\u001B[49m\u001B[43m)\u001B[49m\n\u001B[0;32m      3\u001B[0m query \u001B[38;5;241m=\u001B[39m \u001B[38;5;124m'\u001B[39m\u001B[38;5;124mBodies of watter in Lumpkin county\u001B[39m\u001B[38;5;124m'\u001B[39m\n\u001B[0;32m      4\u001B[0m results \u001B[38;5;241m=\u001B[39m vector_store\u001B[38;5;241m.\u001B[39msimilarity_search(query)\n",
      "File \u001B[1;32m~\\PycharmProjects\\LLM-LangChain-Streamlit\\venv\\lib\\site-packages\\langchain\\schema\\vectorstore.py:510\u001B[0m, in \u001B[0;36mVectorStore.from_documents\u001B[1;34m(cls, documents, embedding, **kwargs)\u001B[0m\n\u001B[0;32m    508\u001B[0m texts \u001B[38;5;241m=\u001B[39m [d\u001B[38;5;241m.\u001B[39mpage_content \u001B[38;5;28;01mfor\u001B[39;00m d \u001B[38;5;129;01min\u001B[39;00m documents]\n\u001B[0;32m    509\u001B[0m metadatas \u001B[38;5;241m=\u001B[39m [d\u001B[38;5;241m.\u001B[39mmetadata \u001B[38;5;28;01mfor\u001B[39;00m d \u001B[38;5;129;01min\u001B[39;00m documents]\n\u001B[1;32m--> 510\u001B[0m \u001B[38;5;28;01mreturn\u001B[39;00m \u001B[38;5;28mcls\u001B[39m\u001B[38;5;241m.\u001B[39mfrom_texts(texts, embedding, metadatas\u001B[38;5;241m=\u001B[39mmetadatas, \u001B[38;5;241m*\u001B[39m\u001B[38;5;241m*\u001B[39mkwargs)\n",
      "File \u001B[1;32m~\\PycharmProjects\\LLM-LangChain-Streamlit\\venv\\lib\\site-packages\\langchain\\vectorstores\\pinecone.py:418\u001B[0m, in \u001B[0;36mPinecone.from_texts\u001B[1;34m(cls, texts, embedding, metadatas, ids, batch_size, text_key, namespace, index_name, upsert_kwargs, pool_threads, embeddings_chunk_size, **kwargs)\u001B[0m\n\u001B[0;32m    376\u001B[0m \u001B[38;5;129m@classmethod\u001B[39m\n\u001B[0;32m    377\u001B[0m \u001B[38;5;28;01mdef\u001B[39;00m \u001B[38;5;21mfrom_texts\u001B[39m(\n\u001B[0;32m    378\u001B[0m     \u001B[38;5;28mcls\u001B[39m,\n\u001B[1;32m   (...)\u001B[0m\n\u001B[0;32m    390\u001B[0m     \u001B[38;5;241m*\u001B[39m\u001B[38;5;241m*\u001B[39mkwargs: Any,\n\u001B[0;32m    391\u001B[0m ) \u001B[38;5;241m-\u001B[39m\u001B[38;5;241m>\u001B[39m Pinecone:\n\u001B[0;32m    392\u001B[0m \u001B[38;5;250m    \u001B[39m\u001B[38;5;124;03m\"\"\"Construct Pinecone wrapper from raw documents.\u001B[39;00m\n\u001B[0;32m    393\u001B[0m \n\u001B[0;32m    394\u001B[0m \u001B[38;5;124;03m    This is a user friendly interface that:\u001B[39;00m\n\u001B[1;32m   (...)\u001B[0m\n\u001B[0;32m    416\u001B[0m \u001B[38;5;124;03m            )\u001B[39;00m\n\u001B[0;32m    417\u001B[0m \u001B[38;5;124;03m    \"\"\"\u001B[39;00m\n\u001B[1;32m--> 418\u001B[0m     pinecone_index \u001B[38;5;241m=\u001B[39m \u001B[38;5;28;43mcls\u001B[39;49m\u001B[38;5;241;43m.\u001B[39;49m\u001B[43mget_pinecone_index\u001B[49m\u001B[43m(\u001B[49m\u001B[43mindex_name\u001B[49m\u001B[43m,\u001B[49m\u001B[43m \u001B[49m\u001B[43mpool_threads\u001B[49m\u001B[43m)\u001B[49m\n\u001B[0;32m    419\u001B[0m     pinecone \u001B[38;5;241m=\u001B[39m \u001B[38;5;28mcls\u001B[39m(pinecone_index, embedding, text_key, namespace, \u001B[38;5;241m*\u001B[39m\u001B[38;5;241m*\u001B[39mkwargs)\n\u001B[0;32m    421\u001B[0m     pinecone\u001B[38;5;241m.\u001B[39madd_texts(\n\u001B[0;32m    422\u001B[0m         texts,\n\u001B[0;32m    423\u001B[0m         metadatas\u001B[38;5;241m=\u001B[39mmetadatas,\n\u001B[1;32m   (...)\u001B[0m\n\u001B[0;32m    428\u001B[0m         \u001B[38;5;241m*\u001B[39m\u001B[38;5;241m*\u001B[39m(upsert_kwargs \u001B[38;5;129;01mor\u001B[39;00m {}),\n\u001B[0;32m    429\u001B[0m     )\n",
      "File \u001B[1;32m~\\PycharmProjects\\LLM-LangChain-Streamlit\\venv\\lib\\site-packages\\langchain\\vectorstores\\pinecone.py:370\u001B[0m, in \u001B[0;36mPinecone.get_pinecone_index\u001B[1;34m(cls, index_name, pool_threads)\u001B[0m\n\u001B[0;32m    364\u001B[0m     \u001B[38;5;28;01mraise\u001B[39;00m \u001B[38;5;167;01mValueError\u001B[39;00m(\n\u001B[0;32m    365\u001B[0m         \u001B[38;5;124m\"\u001B[39m\u001B[38;5;124mNo active indexes found in your Pinecone project, \u001B[39m\u001B[38;5;124m\"\u001B[39m\n\u001B[0;32m    366\u001B[0m         \u001B[38;5;124m\"\u001B[39m\u001B[38;5;124mare you sure you\u001B[39m\u001B[38;5;124m'\u001B[39m\u001B[38;5;124mre using the right Pinecone API key and Environment? \u001B[39m\u001B[38;5;124m\"\u001B[39m\n\u001B[0;32m    367\u001B[0m         \u001B[38;5;124m\"\u001B[39m\u001B[38;5;124mPlease double check your Pinecone dashboard.\u001B[39m\u001B[38;5;124m\"\u001B[39m\n\u001B[0;32m    368\u001B[0m     )\n\u001B[0;32m    369\u001B[0m \u001B[38;5;28;01melse\u001B[39;00m:\n\u001B[1;32m--> 370\u001B[0m     \u001B[38;5;28;01mraise\u001B[39;00m \u001B[38;5;167;01mValueError\u001B[39;00m(\n\u001B[0;32m    371\u001B[0m         \u001B[38;5;124mf\u001B[39m\u001B[38;5;124m\"\u001B[39m\u001B[38;5;124mIndex \u001B[39m\u001B[38;5;124m'\u001B[39m\u001B[38;5;132;01m{\u001B[39;00mindex_name\u001B[38;5;132;01m}\u001B[39;00m\u001B[38;5;124m'\u001B[39m\u001B[38;5;124m not found in your Pinecone project. \u001B[39m\u001B[38;5;124m\"\u001B[39m\n\u001B[0;32m    372\u001B[0m         \u001B[38;5;124mf\u001B[39m\u001B[38;5;124m\"\u001B[39m\u001B[38;5;124mDid you mean one of the following indexes: \u001B[39m\u001B[38;5;132;01m{\u001B[39;00m\u001B[38;5;124m'\u001B[39m\u001B[38;5;124m, \u001B[39m\u001B[38;5;124m'\u001B[39m\u001B[38;5;241m.\u001B[39mjoin(indexes)\u001B[38;5;132;01m}\u001B[39;00m\u001B[38;5;124m\"\u001B[39m\n\u001B[0;32m    373\u001B[0m     )\n\u001B[0;32m    374\u001B[0m \u001B[38;5;28;01mreturn\u001B[39;00m index\n",
      "\u001B[1;31mValueError\u001B[0m: Index 'langchain-pinecone' not found in your Pinecone project. Did you mean one of the following indexes: fishing"
     ]
    }
   ],
   "source": [
    "## Asking Questions ( Similarity Search)\n",
    "vector_store = Pinecone.from_documents(chunks,embeddings,index_name=index_name)\n",
    "query = 'Bodies of watter in Lumpkin county'\n",
    "results = vector_store.similarity_search(query)\n",
    "print(results)"
   ],
   "metadata": {
    "collapsed": false,
    "ExecuteTime": {
     "end_time": "2023-12-03T04:07:06.106326500Z",
     "start_time": "2023-12-03T04:07:05.965406500Z"
    }
   },
   "id": "da779698c40b7e09"
  },
  {
   "cell_type": "code",
   "execution_count": null,
   "outputs": [],
   "source": [
    "for r in results:\n",
    "    print(r.page_content)\n",
    "    print('-'*50)"
   ],
   "metadata": {
    "collapsed": false,
    "ExecuteTime": {
     "start_time": "2023-12-03T04:03:35.926457600Z"
    }
   },
   "id": "bd2076e73995bfd7"
  },
  {
   "cell_type": "code",
   "execution_count": null,
   "outputs": [],
   "source": [
    "# Use LLM to get better answer\n",
    "from langchain.chains import RetrievalQA\n",
    "from langchain.chat_models import ChatOpenAI\n",
    "\n",
    "# Initialize the LLM with your API key and model parameters\n",
    "llm = ChatOpenAI(api_key=api_key, model_name='gpt-4-1106-preview', temperature=1)\n",
    "\n",
    "# Assuming vector_store is a Pinecone object and has a method like as_retriever\n",
    "# Adjust the method name and parameters according to the actual API\n",
    "retriever = vector_store.as_retriever(search_type='similarity', search_kwargs={'k': 3})\n",
    "\n",
    "# Initialize the RetrievalQA chain\n",
    "chain = RetrievalQA.from_chain_type(llm=llm, chain_type='stuff', retriever=retriever)\n"
   ],
   "metadata": {
    "collapsed": false,
    "ExecuteTime": {
     "start_time": "2023-12-03T04:03:35.926457600Z"
    }
   },
   "id": "77cac6c5cb10693a"
  },
  {
   "cell_type": "code",
   "execution_count": null,
   "outputs": [],
   "source": [
    "query = 'What is latest stocking schedule in lumpking county'\n",
    "answer = chain.run(query)\n",
    "print(answer)"
   ],
   "metadata": {
    "collapsed": false,
    "ExecuteTime": {
     "start_time": "2023-12-03T04:03:35.927457300Z"
    }
   },
   "id": "a756d90f8f7da581"
  }
 ],
 "metadata": {
  "kernelspec": {
   "display_name": "Python 3",
   "language": "python",
   "name": "python3"
  },
  "language_info": {
   "codemirror_mode": {
    "name": "ipython",
    "version": 2
   },
   "file_extension": ".py",
   "mimetype": "text/x-python",
   "name": "python",
   "nbconvert_exporter": "python",
   "pygments_lexer": "ipython2",
   "version": "2.7.6"
  }
 },
 "nbformat": 4,
 "nbformat_minor": 5
}
